{
 "cells": [
  {
   "cell_type": "code",
   "execution_count": 1,
   "metadata": {},
   "outputs": [],
   "source": [
    "import pandas as pd\n",
    "import plotly.express as px\n",
    "import plotly.graph_objects as go\n",
    "import numpy as np"
   ]
  },
  {
   "cell_type": "code",
   "execution_count": 2,
   "metadata": {},
   "outputs": [
    {
     "data": {
      "text/html": [
       "<div>\n",
       "<style scoped>\n",
       "    .dataframe tbody tr th:only-of-type {\n",
       "        vertical-align: middle;\n",
       "    }\n",
       "\n",
       "    .dataframe tbody tr th {\n",
       "        vertical-align: top;\n",
       "    }\n",
       "\n",
       "    .dataframe thead th {\n",
       "        text-align: right;\n",
       "    }\n",
       "</style>\n",
       "<table border=\"1\" class=\"dataframe\">\n",
       "  <thead>\n",
       "    <tr style=\"text-align: right;\">\n",
       "      <th></th>\n",
       "      <th>ANO</th>\n",
       "      <th>MÊS</th>\n",
       "      <th>NÚMERO_ÍNDICE</th>\n",
       "      <th>NO_MÊS</th>\n",
       "      <th>3_MESES</th>\n",
       "      <th>6_MESES</th>\n",
       "      <th>NO_ANO</th>\n",
       "      <th>12_MESES</th>\n",
       "    </tr>\n",
       "  </thead>\n",
       "  <tbody>\n",
       "    <tr>\n",
       "      <th>0</th>\n",
       "      <td>NaN</td>\n",
       "      <td>NaN</td>\n",
       "      <td>(DEZ 93 = 100)</td>\n",
       "      <td>NO</td>\n",
       "      <td>3</td>\n",
       "      <td>6</td>\n",
       "      <td>NO</td>\n",
       "      <td>12</td>\n",
       "    </tr>\n",
       "    <tr>\n",
       "      <th>1</th>\n",
       "      <td>NaN</td>\n",
       "      <td>NaN</td>\n",
       "      <td>NaN</td>\n",
       "      <td>MÊS</td>\n",
       "      <td>MESES</td>\n",
       "      <td>MESES</td>\n",
       "      <td>ANO</td>\n",
       "      <td>MESES</td>\n",
       "    </tr>\n",
       "    <tr>\n",
       "      <th>2</th>\n",
       "      <td>NaN</td>\n",
       "      <td>NaN</td>\n",
       "      <td>NaN</td>\n",
       "      <td>NaN</td>\n",
       "      <td>NaN</td>\n",
       "      <td>NaN</td>\n",
       "      <td>NaN</td>\n",
       "      <td>NaN</td>\n",
       "    </tr>\n",
       "    <tr>\n",
       "      <th>3</th>\n",
       "      <td>1994</td>\n",
       "      <td>JAN</td>\n",
       "      <td>141.31</td>\n",
       "      <td>41.31</td>\n",
       "      <td>162.13</td>\n",
       "      <td>533.33</td>\n",
       "      <td>41.31</td>\n",
       "      <td>2693.84</td>\n",
       "    </tr>\n",
       "    <tr>\n",
       "      <th>4</th>\n",
       "      <td>NaN</td>\n",
       "      <td>FEV</td>\n",
       "      <td>198.22</td>\n",
       "      <td>40.27</td>\n",
       "      <td>171.24</td>\n",
       "      <td>568.17</td>\n",
       "      <td>98.22</td>\n",
       "      <td>3035.71</td>\n",
       "    </tr>\n",
       "    <tr>\n",
       "      <th>...</th>\n",
       "      <td>...</td>\n",
       "      <td>...</td>\n",
       "      <td>...</td>\n",
       "      <td>...</td>\n",
       "      <td>...</td>\n",
       "      <td>...</td>\n",
       "      <td>...</td>\n",
       "      <td>...</td>\n",
       "    </tr>\n",
       "    <tr>\n",
       "      <th>421</th>\n",
       "      <td>NaN</td>\n",
       "      <td>NaN</td>\n",
       "      <td>NaN</td>\n",
       "      <td>NaN</td>\n",
       "      <td>NaN</td>\n",
       "      <td>NaN</td>\n",
       "      <td>NaN</td>\n",
       "      <td>NaN</td>\n",
       "    </tr>\n",
       "    <tr>\n",
       "      <th>422</th>\n",
       "      <td>NaN</td>\n",
       "      <td>NaN</td>\n",
       "      <td>NaN</td>\n",
       "      <td>NaN</td>\n",
       "      <td>NaN</td>\n",
       "      <td>NaN</td>\n",
       "      <td>NaN</td>\n",
       "      <td>NaN</td>\n",
       "    </tr>\n",
       "    <tr>\n",
       "      <th>423</th>\n",
       "      <td>NaN</td>\n",
       "      <td>NaN</td>\n",
       "      <td>NaN</td>\n",
       "      <td>NaN</td>\n",
       "      <td>NaN</td>\n",
       "      <td>NaN</td>\n",
       "      <td>NaN</td>\n",
       "      <td>NaN</td>\n",
       "    </tr>\n",
       "    <tr>\n",
       "      <th>424</th>\n",
       "      <td>NaN</td>\n",
       "      <td>NaN</td>\n",
       "      <td>NaN</td>\n",
       "      <td>NaN</td>\n",
       "      <td>NaN</td>\n",
       "      <td>NaN</td>\n",
       "      <td>NaN</td>\n",
       "      <td>NaN</td>\n",
       "    </tr>\n",
       "    <tr>\n",
       "      <th>425</th>\n",
       "      <td>NaN</td>\n",
       "      <td>NaN</td>\n",
       "      <td>NaN</td>\n",
       "      <td>NaN</td>\n",
       "      <td>NaN</td>\n",
       "      <td></td>\n",
       "      <td>NaN</td>\n",
       "      <td>NaN</td>\n",
       "    </tr>\n",
       "  </tbody>\n",
       "</table>\n",
       "<p>426 rows × 8 columns</p>\n",
       "</div>"
      ],
      "text/plain": [
       "      ANO  MÊS   NÚMERO_ÍNDICE NO_MÊS 3_MESES 6_MESES NO_ANO 12_MESES\n",
       "0     NaN  NaN  (DEZ 93 = 100)     NO       3       6     NO       12\n",
       "1     NaN  NaN             NaN    MÊS   MESES   MESES    ANO    MESES\n",
       "2     NaN  NaN             NaN    NaN     NaN     NaN    NaN      NaN\n",
       "3    1994  JAN          141.31  41.31  162.13  533.33  41.31  2693.84\n",
       "4     NaN  FEV          198.22  40.27  171.24  568.17  98.22  3035.71\n",
       "..    ...  ...             ...    ...     ...     ...    ...      ...\n",
       "421   NaN  NaN             NaN    NaN     NaN     NaN    NaN      NaN\n",
       "422   NaN  NaN             NaN    NaN     NaN     NaN    NaN      NaN\n",
       "423   NaN  NaN             NaN    NaN     NaN     NaN    NaN      NaN\n",
       "424   NaN  NaN             NaN    NaN     NaN     NaN    NaN      NaN\n",
       "425   NaN  NaN             NaN    NaN     NaN            NaN      NaN\n",
       "\n",
       "[426 rows x 8 columns]"
      ]
     },
     "execution_count": 2,
     "metadata": {},
     "output_type": "execute_result"
    }
   ],
   "source": [
    "# Importando o arquivo bruto\n",
    "df = pd.read_excel('data\\\\ipca_202201SerieHist.xls', sheet_name='Série Histórica IPCA', engine='xlrd', skiprows=4, header=0)\n",
    "\n",
    "colunas = {'ANO': 'ANO', 'MÊS': 'MÊS', 'NÚMERO ÍNDICE': 'NÚMERO_ÍNDICE', '(%)': 'NO_MÊS',\n",
    "           'Unnamed: 4': '3_MESES', 'Unnamed: 5': '6_MESES', 'Unnamed: 6': 'NO_ANO', 'Unnamed: 7': '12_MESES'}\n",
    "\n",
    "# Renomeando as colunas\n",
    "df = df.rename(columns=colunas)\n",
    "df"
   ]
  },
  {
   "cell_type": "code",
   "execution_count": 3,
   "metadata": {},
   "outputs": [
    {
     "data": {
      "text/html": [
       "<div>\n",
       "<style scoped>\n",
       "    .dataframe tbody tr th:only-of-type {\n",
       "        vertical-align: middle;\n",
       "    }\n",
       "\n",
       "    .dataframe tbody tr th {\n",
       "        vertical-align: top;\n",
       "    }\n",
       "\n",
       "    .dataframe thead th {\n",
       "        text-align: right;\n",
       "    }\n",
       "</style>\n",
       "<table border=\"1\" class=\"dataframe\">\n",
       "  <thead>\n",
       "    <tr style=\"text-align: right;\">\n",
       "      <th></th>\n",
       "      <th>ANO</th>\n",
       "      <th>MÊS</th>\n",
       "      <th>NÚMERO_ÍNDICE</th>\n",
       "      <th>NO_MÊS</th>\n",
       "      <th>3_MESES</th>\n",
       "      <th>6_MESES</th>\n",
       "      <th>NO_ANO</th>\n",
       "      <th>12_MESES</th>\n",
       "    </tr>\n",
       "  </thead>\n",
       "  <tbody>\n",
       "    <tr>\n",
       "      <th>0</th>\n",
       "      <td>NaN</td>\n",
       "      <td>NaN</td>\n",
       "      <td>(DEZ 93 = 100)</td>\n",
       "      <td>NO</td>\n",
       "      <td>3</td>\n",
       "      <td>6</td>\n",
       "      <td>NO</td>\n",
       "      <td>12</td>\n",
       "    </tr>\n",
       "    <tr>\n",
       "      <th>1</th>\n",
       "      <td>NaN</td>\n",
       "      <td>NaN</td>\n",
       "      <td>NaN</td>\n",
       "      <td>MÊS</td>\n",
       "      <td>MESES</td>\n",
       "      <td>MESES</td>\n",
       "      <td>ANO</td>\n",
       "      <td>MESES</td>\n",
       "    </tr>\n",
       "    <tr>\n",
       "      <th>3</th>\n",
       "      <td>1994</td>\n",
       "      <td>JAN</td>\n",
       "      <td>141.31</td>\n",
       "      <td>41.31</td>\n",
       "      <td>162.13</td>\n",
       "      <td>533.33</td>\n",
       "      <td>41.31</td>\n",
       "      <td>2693.84</td>\n",
       "    </tr>\n",
       "    <tr>\n",
       "      <th>4</th>\n",
       "      <td>NaN</td>\n",
       "      <td>FEV</td>\n",
       "      <td>198.22</td>\n",
       "      <td>40.27</td>\n",
       "      <td>171.24</td>\n",
       "      <td>568.17</td>\n",
       "      <td>98.22</td>\n",
       "      <td>3035.71</td>\n",
       "    </tr>\n",
       "    <tr>\n",
       "      <th>5</th>\n",
       "      <td>NaN</td>\n",
       "      <td>MAR</td>\n",
       "      <td>282.96</td>\n",
       "      <td>42.75</td>\n",
       "      <td>182.96</td>\n",
       "      <td>602.93</td>\n",
       "      <td>182.96</td>\n",
       "      <td>3417.39</td>\n",
       "    </tr>\n",
       "    <tr>\n",
       "      <th>...</th>\n",
       "      <td>...</td>\n",
       "      <td>...</td>\n",
       "      <td>...</td>\n",
       "      <td>...</td>\n",
       "      <td>...</td>\n",
       "      <td>...</td>\n",
       "      <td>...</td>\n",
       "      <td>...</td>\n",
       "    </tr>\n",
       "    <tr>\n",
       "      <th>402</th>\n",
       "      <td>NaN</td>\n",
       "      <td>SET</td>\n",
       "      <td>5944.21</td>\n",
       "      <td>1.16</td>\n",
       "      <td>3.02</td>\n",
       "      <td>4.75</td>\n",
       "      <td>6.9</td>\n",
       "      <td>10.25</td>\n",
       "    </tr>\n",
       "    <tr>\n",
       "      <th>403</th>\n",
       "      <td>NaN</td>\n",
       "      <td>OUT</td>\n",
       "      <td>6018.51</td>\n",
       "      <td>1.25</td>\n",
       "      <td>3.32</td>\n",
       "      <td>5.73</td>\n",
       "      <td>8.24</td>\n",
       "      <td>10.67</td>\n",
       "    </tr>\n",
       "    <tr>\n",
       "      <th>404</th>\n",
       "      <td>NaN</td>\n",
       "      <td>NOV</td>\n",
       "      <td>6075.69</td>\n",
       "      <td>0.95</td>\n",
       "      <td>3.4</td>\n",
       "      <td>5.86</td>\n",
       "      <td>9.26</td>\n",
       "      <td>10.74</td>\n",
       "    </tr>\n",
       "    <tr>\n",
       "      <th>405</th>\n",
       "      <td>NaN</td>\n",
       "      <td>DEZ</td>\n",
       "      <td>6120.04</td>\n",
       "      <td>0.73</td>\n",
       "      <td>2.96</td>\n",
       "      <td>6.07</td>\n",
       "      <td>10.06</td>\n",
       "      <td>10.06</td>\n",
       "    </tr>\n",
       "    <tr>\n",
       "      <th>407</th>\n",
       "      <td>2022</td>\n",
       "      <td>JAN</td>\n",
       "      <td>6153.09</td>\n",
       "      <td>0.54</td>\n",
       "      <td>2.24</td>\n",
       "      <td>5.63</td>\n",
       "      <td>0.54</td>\n",
       "      <td>10.38</td>\n",
       "    </tr>\n",
       "  </tbody>\n",
       "</table>\n",
       "<p>372 rows × 8 columns</p>\n",
       "</div>"
      ],
      "text/plain": [
       "      ANO  MÊS   NÚMERO_ÍNDICE NO_MÊS 3_MESES 6_MESES  NO_ANO 12_MESES\n",
       "0     NaN  NaN  (DEZ 93 = 100)     NO       3       6      NO       12\n",
       "1     NaN  NaN             NaN    MÊS   MESES   MESES     ANO    MESES\n",
       "3    1994  JAN          141.31  41.31  162.13  533.33   41.31  2693.84\n",
       "4     NaN  FEV          198.22  40.27  171.24  568.17   98.22  3035.71\n",
       "5     NaN  MAR          282.96  42.75  182.96  602.93  182.96  3417.39\n",
       "..    ...  ...             ...    ...     ...     ...     ...      ...\n",
       "402   NaN  SET         5944.21   1.16    3.02    4.75     6.9    10.25\n",
       "403   NaN  OUT         6018.51   1.25    3.32    5.73    8.24    10.67\n",
       "404   NaN  NOV         6075.69   0.95     3.4    5.86    9.26    10.74\n",
       "405   NaN  DEZ         6120.04   0.73    2.96    6.07   10.06    10.06\n",
       "407  2022  JAN         6153.09   0.54    2.24    5.63    0.54    10.38\n",
       "\n",
       "[372 rows x 8 columns]"
      ]
     },
     "execution_count": 3,
     "metadata": {},
     "output_type": "execute_result"
    }
   ],
   "source": [
    "# Excluindo linhas vazias\n",
    "df.dropna(how='all', inplace=True)\n",
    "\n",
    "# Removendo linhas de fonte de dados\n",
    "df = df.iloc[0:-3, :]\n",
    "df"
   ]
  },
  {
   "cell_type": "code",
   "execution_count": 4,
   "metadata": {},
   "outputs": [
    {
     "data": {
      "text/html": [
       "<div>\n",
       "<style scoped>\n",
       "    .dataframe tbody tr th:only-of-type {\n",
       "        vertical-align: middle;\n",
       "    }\n",
       "\n",
       "    .dataframe tbody tr th {\n",
       "        vertical-align: top;\n",
       "    }\n",
       "\n",
       "    .dataframe thead th {\n",
       "        text-align: right;\n",
       "    }\n",
       "</style>\n",
       "<table border=\"1\" class=\"dataframe\">\n",
       "  <thead>\n",
       "    <tr style=\"text-align: right;\">\n",
       "      <th></th>\n",
       "      <th>ANO</th>\n",
       "      <th>MÊS</th>\n",
       "      <th>NÚMERO_ÍNDICE</th>\n",
       "      <th>NO_MÊS</th>\n",
       "      <th>3_MESES</th>\n",
       "      <th>6_MESES</th>\n",
       "      <th>NO_ANO</th>\n",
       "      <th>12_MESES</th>\n",
       "    </tr>\n",
       "  </thead>\n",
       "  <tbody>\n",
       "    <tr>\n",
       "      <th>3</th>\n",
       "      <td>1994</td>\n",
       "      <td>JAN</td>\n",
       "      <td>141.31</td>\n",
       "      <td>41.31</td>\n",
       "      <td>162.13</td>\n",
       "      <td>533.33</td>\n",
       "      <td>41.31</td>\n",
       "      <td>2693.84</td>\n",
       "    </tr>\n",
       "    <tr>\n",
       "      <th>4</th>\n",
       "      <td>NaN</td>\n",
       "      <td>FEV</td>\n",
       "      <td>198.22</td>\n",
       "      <td>40.27</td>\n",
       "      <td>171.24</td>\n",
       "      <td>568.17</td>\n",
       "      <td>98.22</td>\n",
       "      <td>3035.71</td>\n",
       "    </tr>\n",
       "    <tr>\n",
       "      <th>5</th>\n",
       "      <td>NaN</td>\n",
       "      <td>MAR</td>\n",
       "      <td>282.96</td>\n",
       "      <td>42.75</td>\n",
       "      <td>182.96</td>\n",
       "      <td>602.93</td>\n",
       "      <td>182.96</td>\n",
       "      <td>3417.39</td>\n",
       "    </tr>\n",
       "    <tr>\n",
       "      <th>6</th>\n",
       "      <td>NaN</td>\n",
       "      <td>ABR</td>\n",
       "      <td>403.73</td>\n",
       "      <td>42.68</td>\n",
       "      <td>185.71</td>\n",
       "      <td>648.92</td>\n",
       "      <td>303.73</td>\n",
       "      <td>3828.49</td>\n",
       "    </tr>\n",
       "    <tr>\n",
       "      <th>7</th>\n",
       "      <td>NaN</td>\n",
       "      <td>MAI</td>\n",
       "      <td>581.49</td>\n",
       "      <td>44.03</td>\n",
       "      <td>193.36</td>\n",
       "      <td>695.71</td>\n",
       "      <td>481.49</td>\n",
       "      <td>4331.19</td>\n",
       "    </tr>\n",
       "    <tr>\n",
       "      <th>...</th>\n",
       "      <td>...</td>\n",
       "      <td>...</td>\n",
       "      <td>...</td>\n",
       "      <td>...</td>\n",
       "      <td>...</td>\n",
       "      <td>...</td>\n",
       "      <td>...</td>\n",
       "      <td>...</td>\n",
       "    </tr>\n",
       "    <tr>\n",
       "      <th>402</th>\n",
       "      <td>NaN</td>\n",
       "      <td>SET</td>\n",
       "      <td>5944.21</td>\n",
       "      <td>1.16</td>\n",
       "      <td>3.02</td>\n",
       "      <td>4.75</td>\n",
       "      <td>6.9</td>\n",
       "      <td>10.25</td>\n",
       "    </tr>\n",
       "    <tr>\n",
       "      <th>403</th>\n",
       "      <td>NaN</td>\n",
       "      <td>OUT</td>\n",
       "      <td>6018.51</td>\n",
       "      <td>1.25</td>\n",
       "      <td>3.32</td>\n",
       "      <td>5.73</td>\n",
       "      <td>8.24</td>\n",
       "      <td>10.67</td>\n",
       "    </tr>\n",
       "    <tr>\n",
       "      <th>404</th>\n",
       "      <td>NaN</td>\n",
       "      <td>NOV</td>\n",
       "      <td>6075.69</td>\n",
       "      <td>0.95</td>\n",
       "      <td>3.4</td>\n",
       "      <td>5.86</td>\n",
       "      <td>9.26</td>\n",
       "      <td>10.74</td>\n",
       "    </tr>\n",
       "    <tr>\n",
       "      <th>405</th>\n",
       "      <td>NaN</td>\n",
       "      <td>DEZ</td>\n",
       "      <td>6120.04</td>\n",
       "      <td>0.73</td>\n",
       "      <td>2.96</td>\n",
       "      <td>6.07</td>\n",
       "      <td>10.06</td>\n",
       "      <td>10.06</td>\n",
       "    </tr>\n",
       "    <tr>\n",
       "      <th>407</th>\n",
       "      <td>2022</td>\n",
       "      <td>JAN</td>\n",
       "      <td>6153.09</td>\n",
       "      <td>0.54</td>\n",
       "      <td>2.24</td>\n",
       "      <td>5.63</td>\n",
       "      <td>0.54</td>\n",
       "      <td>10.38</td>\n",
       "    </tr>\n",
       "  </tbody>\n",
       "</table>\n",
       "<p>337 rows × 8 columns</p>\n",
       "</div>"
      ],
      "text/plain": [
       "      ANO  MÊS NÚMERO_ÍNDICE NO_MÊS 3_MESES 6_MESES  NO_ANO 12_MESES\n",
       "3    1994  JAN        141.31  41.31  162.13  533.33   41.31  2693.84\n",
       "4     NaN  FEV        198.22  40.27  171.24  568.17   98.22  3035.71\n",
       "5     NaN  MAR        282.96  42.75  182.96  602.93  182.96  3417.39\n",
       "6     NaN  ABR        403.73  42.68  185.71  648.92  303.73  3828.49\n",
       "7     NaN  MAI        581.49  44.03  193.36  695.71  481.49  4331.19\n",
       "..    ...  ...           ...    ...     ...     ...     ...      ...\n",
       "402   NaN  SET       5944.21   1.16    3.02    4.75     6.9    10.25\n",
       "403   NaN  OUT       6018.51   1.25    3.32    5.73    8.24    10.67\n",
       "404   NaN  NOV       6075.69   0.95     3.4    5.86    9.26    10.74\n",
       "405   NaN  DEZ       6120.04   0.73    2.96    6.07   10.06    10.06\n",
       "407  2022  JAN       6153.09   0.54    2.24    5.63    0.54    10.38\n",
       "\n",
       "[337 rows x 8 columns]"
      ]
     },
     "execution_count": 4,
     "metadata": {},
     "output_type": "execute_result"
    }
   ],
   "source": [
    "# Excluindo títulos e linhas de formatação desnecessária\n",
    "df = df[df['NÚMERO_ÍNDICE'] != '(DEZ 93 = 100)']\n",
    "df = df[df['NO_MÊS'] != 'MÊS']\n",
    "df = df[df['3_MESES'] != 'MESES']\n",
    "df = df[df['6_MESES'] != 'MESES']\n",
    "df = df[df['NO_ANO'] != 'ANO']\n",
    "df = df[df['12_MESES'] != 'MESES']\n",
    "df = df[df['ANO'] != 'SÉRIE HISTÓRICA DO IPCA']\n",
    "df = df[df['ANO'] != ' ']\n",
    "df = df[df['6_MESES'] != '    VARIAÇÃO']\n",
    "df = df[df['12_MESES'] != '(continuação)']\n",
    "df = df[df['NO_MÊS'] != '(%)']\n",
    "df = df[df['NÚMERO_ÍNDICE'] != 'NÚMERO ÍNDICE']\n",
    "df = df[df['12_MESES'] != '(conclusão)']\n",
    "\n",
    "df"
   ]
  },
  {
   "cell_type": "code",
   "execution_count": 5,
   "metadata": {},
   "outputs": [
    {
     "data": {
      "text/html": [
       "<div>\n",
       "<style scoped>\n",
       "    .dataframe tbody tr th:only-of-type {\n",
       "        vertical-align: middle;\n",
       "    }\n",
       "\n",
       "    .dataframe tbody tr th {\n",
       "        vertical-align: top;\n",
       "    }\n",
       "\n",
       "    .dataframe thead th {\n",
       "        text-align: right;\n",
       "    }\n",
       "</style>\n",
       "<table border=\"1\" class=\"dataframe\">\n",
       "  <thead>\n",
       "    <tr style=\"text-align: right;\">\n",
       "      <th></th>\n",
       "      <th>ANO</th>\n",
       "      <th>MÊS</th>\n",
       "      <th>NÚMERO_ÍNDICE</th>\n",
       "      <th>NO_MÊS</th>\n",
       "      <th>3_MESES</th>\n",
       "      <th>6_MESES</th>\n",
       "      <th>NO_ANO</th>\n",
       "      <th>12_MESES</th>\n",
       "    </tr>\n",
       "  </thead>\n",
       "  <tbody>\n",
       "    <tr>\n",
       "      <th>3</th>\n",
       "      <td>1994</td>\n",
       "      <td>JAN</td>\n",
       "      <td>141.31</td>\n",
       "      <td>41.31</td>\n",
       "      <td>162.13</td>\n",
       "      <td>533.33</td>\n",
       "      <td>41.31</td>\n",
       "      <td>2693.84</td>\n",
       "    </tr>\n",
       "    <tr>\n",
       "      <th>4</th>\n",
       "      <td>1994</td>\n",
       "      <td>FEV</td>\n",
       "      <td>198.22</td>\n",
       "      <td>40.27</td>\n",
       "      <td>171.24</td>\n",
       "      <td>568.17</td>\n",
       "      <td>98.22</td>\n",
       "      <td>3035.71</td>\n",
       "    </tr>\n",
       "    <tr>\n",
       "      <th>5</th>\n",
       "      <td>1994</td>\n",
       "      <td>MAR</td>\n",
       "      <td>282.96</td>\n",
       "      <td>42.75</td>\n",
       "      <td>182.96</td>\n",
       "      <td>602.93</td>\n",
       "      <td>182.96</td>\n",
       "      <td>3417.39</td>\n",
       "    </tr>\n",
       "    <tr>\n",
       "      <th>6</th>\n",
       "      <td>1994</td>\n",
       "      <td>ABR</td>\n",
       "      <td>403.73</td>\n",
       "      <td>42.68</td>\n",
       "      <td>185.71</td>\n",
       "      <td>648.92</td>\n",
       "      <td>303.73</td>\n",
       "      <td>3828.49</td>\n",
       "    </tr>\n",
       "    <tr>\n",
       "      <th>7</th>\n",
       "      <td>1994</td>\n",
       "      <td>MAI</td>\n",
       "      <td>581.49</td>\n",
       "      <td>44.03</td>\n",
       "      <td>193.36</td>\n",
       "      <td>695.71</td>\n",
       "      <td>481.49</td>\n",
       "      <td>4331.19</td>\n",
       "    </tr>\n",
       "    <tr>\n",
       "      <th>...</th>\n",
       "      <td>...</td>\n",
       "      <td>...</td>\n",
       "      <td>...</td>\n",
       "      <td>...</td>\n",
       "      <td>...</td>\n",
       "      <td>...</td>\n",
       "      <td>...</td>\n",
       "      <td>...</td>\n",
       "    </tr>\n",
       "    <tr>\n",
       "      <th>402</th>\n",
       "      <td>2021</td>\n",
       "      <td>SET</td>\n",
       "      <td>5944.21</td>\n",
       "      <td>1.16</td>\n",
       "      <td>3.02</td>\n",
       "      <td>4.75</td>\n",
       "      <td>6.90</td>\n",
       "      <td>10.25</td>\n",
       "    </tr>\n",
       "    <tr>\n",
       "      <th>403</th>\n",
       "      <td>2021</td>\n",
       "      <td>OUT</td>\n",
       "      <td>6018.51</td>\n",
       "      <td>1.25</td>\n",
       "      <td>3.32</td>\n",
       "      <td>5.73</td>\n",
       "      <td>8.24</td>\n",
       "      <td>10.67</td>\n",
       "    </tr>\n",
       "    <tr>\n",
       "      <th>404</th>\n",
       "      <td>2021</td>\n",
       "      <td>NOV</td>\n",
       "      <td>6075.69</td>\n",
       "      <td>0.95</td>\n",
       "      <td>3.40</td>\n",
       "      <td>5.86</td>\n",
       "      <td>9.26</td>\n",
       "      <td>10.74</td>\n",
       "    </tr>\n",
       "    <tr>\n",
       "      <th>405</th>\n",
       "      <td>2021</td>\n",
       "      <td>DEZ</td>\n",
       "      <td>6120.04</td>\n",
       "      <td>0.73</td>\n",
       "      <td>2.96</td>\n",
       "      <td>6.07</td>\n",
       "      <td>10.06</td>\n",
       "      <td>10.06</td>\n",
       "    </tr>\n",
       "    <tr>\n",
       "      <th>407</th>\n",
       "      <td>2022</td>\n",
       "      <td>JAN</td>\n",
       "      <td>6153.09</td>\n",
       "      <td>0.54</td>\n",
       "      <td>2.24</td>\n",
       "      <td>5.63</td>\n",
       "      <td>0.54</td>\n",
       "      <td>10.38</td>\n",
       "    </tr>\n",
       "  </tbody>\n",
       "</table>\n",
       "<p>337 rows × 8 columns</p>\n",
       "</div>"
      ],
      "text/plain": [
       "      ANO  MÊS  NÚMERO_ÍNDICE  NO_MÊS  3_MESES  6_MESES  NO_ANO  12_MESES\n",
       "3    1994  JAN         141.31   41.31   162.13   533.33   41.31   2693.84\n",
       "4    1994  FEV         198.22   40.27   171.24   568.17   98.22   3035.71\n",
       "5    1994  MAR         282.96   42.75   182.96   602.93  182.96   3417.39\n",
       "6    1994  ABR         403.73   42.68   185.71   648.92  303.73   3828.49\n",
       "7    1994  MAI         581.49   44.03   193.36   695.71  481.49   4331.19\n",
       "..    ...  ...            ...     ...      ...      ...     ...       ...\n",
       "402  2021  SET        5944.21    1.16     3.02     4.75    6.90     10.25\n",
       "403  2021  OUT        6018.51    1.25     3.32     5.73    8.24     10.67\n",
       "404  2021  NOV        6075.69    0.95     3.40     5.86    9.26     10.74\n",
       "405  2021  DEZ        6120.04    0.73     2.96     6.07   10.06     10.06\n",
       "407  2022  JAN        6153.09    0.54     2.24     5.63    0.54     10.38\n",
       "\n",
       "[337 rows x 8 columns]"
      ]
     },
     "execution_count": 5,
     "metadata": {},
     "output_type": "execute_result"
    }
   ],
   "source": [
    "# Preenchendo os dados faltantes da coluna ANO\n",
    "df.fillna(method='ffill', inplace=True)\n",
    "df"
   ]
  },
  {
   "cell_type": "code",
   "execution_count": 6,
   "metadata": {},
   "outputs": [
    {
     "data": {
      "text/plain": [
       "'JAN\\\\2022'"
      ]
     },
     "execution_count": 6,
     "metadata": {},
     "output_type": "execute_result"
    }
   ],
   "source": [
    "df['ANO_MES'] = df['MÊS'] + \"\\\\\" + df['ANO'].astype(str)\n",
    "\n",
    "# Criando uma variável para sempre obter informações do mês mais recente\n",
    "mes_recente = df['ANO_MES'].iloc[-1]\n",
    "mes_recente"
   ]
  },
  {
   "cell_type": "code",
   "execution_count": 7,
   "metadata": {},
   "outputs": [
    {
     "data": {
      "text/html": [
       "<div>\n",
       "<style scoped>\n",
       "    .dataframe tbody tr th:only-of-type {\n",
       "        vertical-align: middle;\n",
       "    }\n",
       "\n",
       "    .dataframe tbody tr th {\n",
       "        vertical-align: top;\n",
       "    }\n",
       "\n",
       "    .dataframe thead th {\n",
       "        text-align: right;\n",
       "    }\n",
       "</style>\n",
       "<table border=\"1\" class=\"dataframe\">\n",
       "  <thead>\n",
       "    <tr style=\"text-align: right;\">\n",
       "      <th></th>\n",
       "      <th>ANO_MES</th>\n",
       "      <th>NÚMERO_ÍNDICE</th>\n",
       "      <th>NO_MÊS</th>\n",
       "      <th>3_MESES</th>\n",
       "      <th>6_MESES</th>\n",
       "      <th>NO_ANO</th>\n",
       "      <th>12_MESES</th>\n",
       "      <th>Valor Nominal (R$) - Jan/1994</th>\n",
       "      <th>Valor Real (R$) - JAN\\2022</th>\n",
       "    </tr>\n",
       "  </thead>\n",
       "  <tbody>\n",
       "    <tr>\n",
       "      <th>3</th>\n",
       "      <td>JAN\\1994</td>\n",
       "      <td>141.31</td>\n",
       "      <td>41.31</td>\n",
       "      <td>162.13</td>\n",
       "      <td>533.33</td>\n",
       "      <td>41.31</td>\n",
       "      <td>2693.84</td>\n",
       "      <td>NaN</td>\n",
       "      <td>NaN</td>\n",
       "    </tr>\n",
       "    <tr>\n",
       "      <th>4</th>\n",
       "      <td>FEV\\1994</td>\n",
       "      <td>198.22</td>\n",
       "      <td>40.27</td>\n",
       "      <td>171.24</td>\n",
       "      <td>568.17</td>\n",
       "      <td>98.22</td>\n",
       "      <td>3035.71</td>\n",
       "      <td>NaN</td>\n",
       "      <td>NaN</td>\n",
       "    </tr>\n",
       "    <tr>\n",
       "      <th>5</th>\n",
       "      <td>MAR\\1994</td>\n",
       "      <td>282.96</td>\n",
       "      <td>42.75</td>\n",
       "      <td>182.96</td>\n",
       "      <td>602.93</td>\n",
       "      <td>182.96</td>\n",
       "      <td>3417.39</td>\n",
       "      <td>NaN</td>\n",
       "      <td>NaN</td>\n",
       "    </tr>\n",
       "    <tr>\n",
       "      <th>6</th>\n",
       "      <td>ABR\\1994</td>\n",
       "      <td>403.73</td>\n",
       "      <td>42.68</td>\n",
       "      <td>185.71</td>\n",
       "      <td>648.92</td>\n",
       "      <td>303.73</td>\n",
       "      <td>3828.49</td>\n",
       "      <td>NaN</td>\n",
       "      <td>NaN</td>\n",
       "    </tr>\n",
       "    <tr>\n",
       "      <th>7</th>\n",
       "      <td>MAI\\1994</td>\n",
       "      <td>581.49</td>\n",
       "      <td>44.03</td>\n",
       "      <td>193.36</td>\n",
       "      <td>695.71</td>\n",
       "      <td>481.49</td>\n",
       "      <td>4331.19</td>\n",
       "      <td>NaN</td>\n",
       "      <td>NaN</td>\n",
       "    </tr>\n",
       "    <tr>\n",
       "      <th>...</th>\n",
       "      <td>...</td>\n",
       "      <td>...</td>\n",
       "      <td>...</td>\n",
       "      <td>...</td>\n",
       "      <td>...</td>\n",
       "      <td>...</td>\n",
       "      <td>...</td>\n",
       "      <td>...</td>\n",
       "      <td>...</td>\n",
       "    </tr>\n",
       "    <tr>\n",
       "      <th>403</th>\n",
       "      <td>OUT\\2021</td>\n",
       "      <td>6018.51</td>\n",
       "      <td>1.25</td>\n",
       "      <td>3.32</td>\n",
       "      <td>5.73</td>\n",
       "      <td>8.24</td>\n",
       "      <td>10.67</td>\n",
       "      <td>NaN</td>\n",
       "      <td>NaN</td>\n",
       "    </tr>\n",
       "    <tr>\n",
       "      <th>404</th>\n",
       "      <td>NOV\\2021</td>\n",
       "      <td>6075.69</td>\n",
       "      <td>0.95</td>\n",
       "      <td>3.40</td>\n",
       "      <td>5.86</td>\n",
       "      <td>9.26</td>\n",
       "      <td>10.74</td>\n",
       "      <td>NaN</td>\n",
       "      <td>NaN</td>\n",
       "    </tr>\n",
       "    <tr>\n",
       "      <th>405</th>\n",
       "      <td>DEZ\\2021</td>\n",
       "      <td>6120.04</td>\n",
       "      <td>0.73</td>\n",
       "      <td>2.96</td>\n",
       "      <td>6.07</td>\n",
       "      <td>10.06</td>\n",
       "      <td>10.06</td>\n",
       "      <td>NaN</td>\n",
       "      <td>NaN</td>\n",
       "    </tr>\n",
       "    <tr>\n",
       "      <th>407</th>\n",
       "      <td>JAN\\2022</td>\n",
       "      <td>6153.09</td>\n",
       "      <td>0.54</td>\n",
       "      <td>2.24</td>\n",
       "      <td>5.63</td>\n",
       "      <td>0.54</td>\n",
       "      <td>10.38</td>\n",
       "      <td>NaN</td>\n",
       "      <td>NaN</td>\n",
       "    </tr>\n",
       "    <tr>\n",
       "      <th>0</th>\n",
       "      <td>NaN</td>\n",
       "      <td>NaN</td>\n",
       "      <td>NaN</td>\n",
       "      <td>NaN</td>\n",
       "      <td>NaN</td>\n",
       "      <td>NaN</td>\n",
       "      <td>NaN</td>\n",
       "      <td>NaN</td>\n",
       "      <td>NaN</td>\n",
       "    </tr>\n",
       "  </tbody>\n",
       "</table>\n",
       "<p>338 rows × 9 columns</p>\n",
       "</div>"
      ],
      "text/plain": [
       "      ANO_MES  NÚMERO_ÍNDICE  NO_MÊS  3_MESES  6_MESES  NO_ANO  12_MESES  \\\n",
       "3    JAN\\1994         141.31   41.31   162.13   533.33   41.31   2693.84   \n",
       "4    FEV\\1994         198.22   40.27   171.24   568.17   98.22   3035.71   \n",
       "5    MAR\\1994         282.96   42.75   182.96   602.93  182.96   3417.39   \n",
       "6    ABR\\1994         403.73   42.68   185.71   648.92  303.73   3828.49   \n",
       "7    MAI\\1994         581.49   44.03   193.36   695.71  481.49   4331.19   \n",
       "..        ...            ...     ...      ...      ...     ...       ...   \n",
       "403  OUT\\2021        6018.51    1.25     3.32     5.73    8.24     10.67   \n",
       "404  NOV\\2021        6075.69    0.95     3.40     5.86    9.26     10.74   \n",
       "405  DEZ\\2021        6120.04    0.73     2.96     6.07   10.06     10.06   \n",
       "407  JAN\\2022        6153.09    0.54     2.24     5.63    0.54     10.38   \n",
       "0         NaN            NaN     NaN      NaN      NaN     NaN       NaN   \n",
       "\n",
       "     Valor Nominal (R$) - Jan/1994  Valor Real (R$) - JAN\\2022  \n",
       "3                              NaN                         NaN  \n",
       "4                              NaN                         NaN  \n",
       "5                              NaN                         NaN  \n",
       "6                              NaN                         NaN  \n",
       "7                              NaN                         NaN  \n",
       "..                             ...                         ...  \n",
       "403                            NaN                         NaN  \n",
       "404                            NaN                         NaN  \n",
       "405                            NaN                         NaN  \n",
       "407                            NaN                         NaN  \n",
       "0                              NaN                         NaN  \n",
       "\n",
       "[338 rows x 9 columns]"
      ]
     },
     "execution_count": 7,
     "metadata": {},
     "output_type": "execute_result"
    }
   ],
   "source": [
    "# Criando novas colunas para fazer o cálculo de variação\n",
    "df.loc[0, 'Valor Nominal (R$) - Jan/1994'] = np.nan\n",
    "df.loc[0, 'Valor Real (R$) - ' + mes_recente] = np.nan\n",
    "\n",
    "df = df[['ANO_MES', 'NÚMERO_ÍNDICE', 'NO_MÊS', '3_MESES', '6_MESES', 'NO_ANO', '12_MESES', \\\n",
    "    'Valor Nominal (R$) - Jan/1994', 'Valor Real (R$) - ' + mes_recente]]\n",
    "\n",
    "df"
   ]
  },
  {
   "cell_type": "code",
   "execution_count": 8,
   "metadata": {},
   "outputs": [
    {
     "data": {
      "text/html": [
       "<div>\n",
       "<style scoped>\n",
       "    .dataframe tbody tr th:only-of-type {\n",
       "        vertical-align: middle;\n",
       "    }\n",
       "\n",
       "    .dataframe tbody tr th {\n",
       "        vertical-align: top;\n",
       "    }\n",
       "\n",
       "    .dataframe thead th {\n",
       "        text-align: right;\n",
       "    }\n",
       "</style>\n",
       "<table border=\"1\" class=\"dataframe\">\n",
       "  <thead>\n",
       "    <tr style=\"text-align: right;\">\n",
       "      <th></th>\n",
       "      <th>ANO_MES</th>\n",
       "      <th>NÚMERO_ÍNDICE</th>\n",
       "      <th>NO_MÊS</th>\n",
       "      <th>3_MESES</th>\n",
       "      <th>6_MESES</th>\n",
       "      <th>NO_ANO</th>\n",
       "      <th>12_MESES</th>\n",
       "      <th>Valor Nominal (R$) - Jan/1994</th>\n",
       "      <th>Valor Real (R$) - JAN\\2022</th>\n",
       "    </tr>\n",
       "  </thead>\n",
       "  <tbody>\n",
       "    <tr>\n",
       "      <th>0</th>\n",
       "      <td>DEZ\\1993</td>\n",
       "      <td>100.00</td>\n",
       "      <td>36.84</td>\n",
       "      <td>0.00</td>\n",
       "      <td>0.00</td>\n",
       "      <td>0.00</td>\n",
       "      <td>0.00</td>\n",
       "      <td>0.0</td>\n",
       "      <td>0.0</td>\n",
       "    </tr>\n",
       "    <tr>\n",
       "      <th>1</th>\n",
       "      <td>JAN\\1994</td>\n",
       "      <td>141.31</td>\n",
       "      <td>41.31</td>\n",
       "      <td>162.13</td>\n",
       "      <td>533.33</td>\n",
       "      <td>41.31</td>\n",
       "      <td>2693.84</td>\n",
       "      <td>NaN</td>\n",
       "      <td>NaN</td>\n",
       "    </tr>\n",
       "    <tr>\n",
       "      <th>2</th>\n",
       "      <td>FEV\\1994</td>\n",
       "      <td>198.22</td>\n",
       "      <td>40.27</td>\n",
       "      <td>171.24</td>\n",
       "      <td>568.17</td>\n",
       "      <td>98.22</td>\n",
       "      <td>3035.71</td>\n",
       "      <td>NaN</td>\n",
       "      <td>NaN</td>\n",
       "    </tr>\n",
       "    <tr>\n",
       "      <th>3</th>\n",
       "      <td>MAR\\1994</td>\n",
       "      <td>282.96</td>\n",
       "      <td>42.75</td>\n",
       "      <td>182.96</td>\n",
       "      <td>602.93</td>\n",
       "      <td>182.96</td>\n",
       "      <td>3417.39</td>\n",
       "      <td>NaN</td>\n",
       "      <td>NaN</td>\n",
       "    </tr>\n",
       "    <tr>\n",
       "      <th>4</th>\n",
       "      <td>ABR\\1994</td>\n",
       "      <td>403.73</td>\n",
       "      <td>42.68</td>\n",
       "      <td>185.71</td>\n",
       "      <td>648.92</td>\n",
       "      <td>303.73</td>\n",
       "      <td>3828.49</td>\n",
       "      <td>NaN</td>\n",
       "      <td>NaN</td>\n",
       "    </tr>\n",
       "    <tr>\n",
       "      <th>...</th>\n",
       "      <td>...</td>\n",
       "      <td>...</td>\n",
       "      <td>...</td>\n",
       "      <td>...</td>\n",
       "      <td>...</td>\n",
       "      <td>...</td>\n",
       "      <td>...</td>\n",
       "      <td>...</td>\n",
       "      <td>...</td>\n",
       "    </tr>\n",
       "    <tr>\n",
       "      <th>334</th>\n",
       "      <td>OUT\\2021</td>\n",
       "      <td>6018.51</td>\n",
       "      <td>1.25</td>\n",
       "      <td>3.32</td>\n",
       "      <td>5.73</td>\n",
       "      <td>8.24</td>\n",
       "      <td>10.67</td>\n",
       "      <td>NaN</td>\n",
       "      <td>NaN</td>\n",
       "    </tr>\n",
       "    <tr>\n",
       "      <th>335</th>\n",
       "      <td>NOV\\2021</td>\n",
       "      <td>6075.69</td>\n",
       "      <td>0.95</td>\n",
       "      <td>3.40</td>\n",
       "      <td>5.86</td>\n",
       "      <td>9.26</td>\n",
       "      <td>10.74</td>\n",
       "      <td>NaN</td>\n",
       "      <td>NaN</td>\n",
       "    </tr>\n",
       "    <tr>\n",
       "      <th>336</th>\n",
       "      <td>DEZ\\2021</td>\n",
       "      <td>6120.04</td>\n",
       "      <td>0.73</td>\n",
       "      <td>2.96</td>\n",
       "      <td>6.07</td>\n",
       "      <td>10.06</td>\n",
       "      <td>10.06</td>\n",
       "      <td>NaN</td>\n",
       "      <td>NaN</td>\n",
       "    </tr>\n",
       "    <tr>\n",
       "      <th>337</th>\n",
       "      <td>JAN\\2022</td>\n",
       "      <td>6153.09</td>\n",
       "      <td>0.54</td>\n",
       "      <td>2.24</td>\n",
       "      <td>5.63</td>\n",
       "      <td>0.54</td>\n",
       "      <td>10.38</td>\n",
       "      <td>NaN</td>\n",
       "      <td>NaN</td>\n",
       "    </tr>\n",
       "    <tr>\n",
       "      <th>338</th>\n",
       "      <td>NaN</td>\n",
       "      <td>NaN</td>\n",
       "      <td>NaN</td>\n",
       "      <td>NaN</td>\n",
       "      <td>NaN</td>\n",
       "      <td>NaN</td>\n",
       "      <td>NaN</td>\n",
       "      <td>NaN</td>\n",
       "      <td>NaN</td>\n",
       "    </tr>\n",
       "  </tbody>\n",
       "</table>\n",
       "<p>339 rows × 9 columns</p>\n",
       "</div>"
      ],
      "text/plain": [
       "      ANO_MES  NÚMERO_ÍNDICE  NO_MÊS  3_MESES  6_MESES  NO_ANO  12_MESES  \\\n",
       "0    DEZ\\1993         100.00   36.84     0.00     0.00    0.00      0.00   \n",
       "1    JAN\\1994         141.31   41.31   162.13   533.33   41.31   2693.84   \n",
       "2    FEV\\1994         198.22   40.27   171.24   568.17   98.22   3035.71   \n",
       "3    MAR\\1994         282.96   42.75   182.96   602.93  182.96   3417.39   \n",
       "4    ABR\\1994         403.73   42.68   185.71   648.92  303.73   3828.49   \n",
       "..        ...            ...     ...      ...      ...     ...       ...   \n",
       "334  OUT\\2021        6018.51    1.25     3.32     5.73    8.24     10.67   \n",
       "335  NOV\\2021        6075.69    0.95     3.40     5.86    9.26     10.74   \n",
       "336  DEZ\\2021        6120.04    0.73     2.96     6.07   10.06     10.06   \n",
       "337  JAN\\2022        6153.09    0.54     2.24     5.63    0.54     10.38   \n",
       "338       NaN            NaN     NaN      NaN      NaN     NaN       NaN   \n",
       "\n",
       "     Valor Nominal (R$) - Jan/1994  Valor Real (R$) - JAN\\2022  \n",
       "0                              0.0                         0.0  \n",
       "1                              NaN                         NaN  \n",
       "2                              NaN                         NaN  \n",
       "3                              NaN                         NaN  \n",
       "4                              NaN                         NaN  \n",
       "..                             ...                         ...  \n",
       "334                            NaN                         NaN  \n",
       "335                            NaN                         NaN  \n",
       "336                            NaN                         NaN  \n",
       "337                            NaN                         NaN  \n",
       "338                            NaN                         NaN  \n",
       "\n",
       "[339 rows x 9 columns]"
      ]
     },
     "execution_count": 8,
     "metadata": {},
     "output_type": "execute_result"
    }
   ],
   "source": [
    "# Inserindo dados referente a Dez/1993, nos dados da Série Histórica não contem\n",
    "# informacao necessaria para obter o valor real\n",
    "new_row = pd.DataFrame({'ANO_MES': 'DEZ\\\\1993', 'NÚMERO_ÍNDICE': 100, 'NO_MÊS': 36.84, '3_MESES': 0.00, '6_MESES': 0.00,\n",
    "                        'NO_ANO': 0.00, '12_MESES': 0.00, 'Valor Nominal (R$) - Jan/1994': 0.00, 'Valor Real (R$) - ' + mes_recente: 0.00}, index=[0])\n",
    "\n",
    "df_2 = pd.concat([new_row, df]).reset_index(drop=True)\n",
    "\n",
    "df_2"
   ]
  },
  {
   "cell_type": "code",
   "execution_count": 9,
   "metadata": {},
   "outputs": [],
   "source": [
    "# Excluindo linha vazia que resultou da concatenação\n",
    "df_2.dropna(how='all', inplace=True)"
   ]
  },
  {
   "cell_type": "code",
   "execution_count": 10,
   "metadata": {},
   "outputs": [
    {
     "data": {
      "text/html": [
       "<div>\n",
       "<style scoped>\n",
       "    .dataframe tbody tr th:only-of-type {\n",
       "        vertical-align: middle;\n",
       "    }\n",
       "\n",
       "    .dataframe tbody tr th {\n",
       "        vertical-align: top;\n",
       "    }\n",
       "\n",
       "    .dataframe thead th {\n",
       "        text-align: right;\n",
       "    }\n",
       "</style>\n",
       "<table border=\"1\" class=\"dataframe\">\n",
       "  <thead>\n",
       "    <tr style=\"text-align: right;\">\n",
       "      <th></th>\n",
       "      <th>ANO_MES</th>\n",
       "      <th>NÚMERO_ÍNDICE</th>\n",
       "      <th>NO_MÊS</th>\n",
       "      <th>3_MESES</th>\n",
       "      <th>6_MESES</th>\n",
       "      <th>NO_ANO</th>\n",
       "      <th>12_MESES</th>\n",
       "      <th>Valor Nominal (R$) - Jan/1994</th>\n",
       "      <th>Valor Real (R$) - JAN\\2022</th>\n",
       "    </tr>\n",
       "  </thead>\n",
       "  <tbody>\n",
       "    <tr>\n",
       "      <th>0</th>\n",
       "      <td>DEZ\\1993</td>\n",
       "      <td>100.00</td>\n",
       "      <td>36.84</td>\n",
       "      <td>0.00</td>\n",
       "      <td>0.00</td>\n",
       "      <td>0.00</td>\n",
       "      <td>0.00</td>\n",
       "      <td>0.0</td>\n",
       "      <td>0.000000</td>\n",
       "    </tr>\n",
       "    <tr>\n",
       "      <th>1</th>\n",
       "      <td>JAN\\1994</td>\n",
       "      <td>141.31</td>\n",
       "      <td>41.31</td>\n",
       "      <td>162.13</td>\n",
       "      <td>533.33</td>\n",
       "      <td>41.31</td>\n",
       "      <td>2693.84</td>\n",
       "      <td>1000.0</td>\n",
       "      <td>15.251997</td>\n",
       "    </tr>\n",
       "    <tr>\n",
       "      <th>2</th>\n",
       "      <td>FEV\\1994</td>\n",
       "      <td>198.22</td>\n",
       "      <td>40.27</td>\n",
       "      <td>171.24</td>\n",
       "      <td>568.17</td>\n",
       "      <td>98.22</td>\n",
       "      <td>3035.71</td>\n",
       "      <td>NaN</td>\n",
       "      <td>NaN</td>\n",
       "    </tr>\n",
       "    <tr>\n",
       "      <th>3</th>\n",
       "      <td>MAR\\1994</td>\n",
       "      <td>282.96</td>\n",
       "      <td>42.75</td>\n",
       "      <td>182.96</td>\n",
       "      <td>602.93</td>\n",
       "      <td>182.96</td>\n",
       "      <td>3417.39</td>\n",
       "      <td>NaN</td>\n",
       "      <td>NaN</td>\n",
       "    </tr>\n",
       "    <tr>\n",
       "      <th>4</th>\n",
       "      <td>ABR\\1994</td>\n",
       "      <td>403.73</td>\n",
       "      <td>42.68</td>\n",
       "      <td>185.71</td>\n",
       "      <td>648.92</td>\n",
       "      <td>303.73</td>\n",
       "      <td>3828.49</td>\n",
       "      <td>NaN</td>\n",
       "      <td>NaN</td>\n",
       "    </tr>\n",
       "    <tr>\n",
       "      <th>...</th>\n",
       "      <td>...</td>\n",
       "      <td>...</td>\n",
       "      <td>...</td>\n",
       "      <td>...</td>\n",
       "      <td>...</td>\n",
       "      <td>...</td>\n",
       "      <td>...</td>\n",
       "      <td>...</td>\n",
       "      <td>...</td>\n",
       "    </tr>\n",
       "    <tr>\n",
       "      <th>333</th>\n",
       "      <td>SET\\2021</td>\n",
       "      <td>5944.21</td>\n",
       "      <td>1.16</td>\n",
       "      <td>3.02</td>\n",
       "      <td>4.75</td>\n",
       "      <td>6.90</td>\n",
       "      <td>10.25</td>\n",
       "      <td>NaN</td>\n",
       "      <td>NaN</td>\n",
       "    </tr>\n",
       "    <tr>\n",
       "      <th>334</th>\n",
       "      <td>OUT\\2021</td>\n",
       "      <td>6018.51</td>\n",
       "      <td>1.25</td>\n",
       "      <td>3.32</td>\n",
       "      <td>5.73</td>\n",
       "      <td>8.24</td>\n",
       "      <td>10.67</td>\n",
       "      <td>NaN</td>\n",
       "      <td>NaN</td>\n",
       "    </tr>\n",
       "    <tr>\n",
       "      <th>335</th>\n",
       "      <td>NOV\\2021</td>\n",
       "      <td>6075.69</td>\n",
       "      <td>0.95</td>\n",
       "      <td>3.40</td>\n",
       "      <td>5.86</td>\n",
       "      <td>9.26</td>\n",
       "      <td>10.74</td>\n",
       "      <td>NaN</td>\n",
       "      <td>NaN</td>\n",
       "    </tr>\n",
       "    <tr>\n",
       "      <th>336</th>\n",
       "      <td>DEZ\\2021</td>\n",
       "      <td>6120.04</td>\n",
       "      <td>0.73</td>\n",
       "      <td>2.96</td>\n",
       "      <td>6.07</td>\n",
       "      <td>10.06</td>\n",
       "      <td>10.06</td>\n",
       "      <td>NaN</td>\n",
       "      <td>NaN</td>\n",
       "    </tr>\n",
       "    <tr>\n",
       "      <th>337</th>\n",
       "      <td>JAN\\2022</td>\n",
       "      <td>6153.09</td>\n",
       "      <td>0.54</td>\n",
       "      <td>2.24</td>\n",
       "      <td>5.63</td>\n",
       "      <td>0.54</td>\n",
       "      <td>10.38</td>\n",
       "      <td>NaN</td>\n",
       "      <td>NaN</td>\n",
       "    </tr>\n",
       "  </tbody>\n",
       "</table>\n",
       "<p>338 rows × 9 columns</p>\n",
       "</div>"
      ],
      "text/plain": [
       "      ANO_MES  NÚMERO_ÍNDICE  NO_MÊS  3_MESES  6_MESES  NO_ANO  12_MESES  \\\n",
       "0    DEZ\\1993         100.00   36.84     0.00     0.00    0.00      0.00   \n",
       "1    JAN\\1994         141.31   41.31   162.13   533.33   41.31   2693.84   \n",
       "2    FEV\\1994         198.22   40.27   171.24   568.17   98.22   3035.71   \n",
       "3    MAR\\1994         282.96   42.75   182.96   602.93  182.96   3417.39   \n",
       "4    ABR\\1994         403.73   42.68   185.71   648.92  303.73   3828.49   \n",
       "..        ...            ...     ...      ...      ...     ...       ...   \n",
       "333  SET\\2021        5944.21    1.16     3.02     4.75    6.90     10.25   \n",
       "334  OUT\\2021        6018.51    1.25     3.32     5.73    8.24     10.67   \n",
       "335  NOV\\2021        6075.69    0.95     3.40     5.86    9.26     10.74   \n",
       "336  DEZ\\2021        6120.04    0.73     2.96     6.07   10.06     10.06   \n",
       "337  JAN\\2022        6153.09    0.54     2.24     5.63    0.54     10.38   \n",
       "\n",
       "     Valor Nominal (R$) - Jan/1994  Valor Real (R$) - JAN\\2022  \n",
       "0                              0.0                    0.000000  \n",
       "1                           1000.0                   15.251997  \n",
       "2                              NaN                         NaN  \n",
       "3                              NaN                         NaN  \n",
       "4                              NaN                         NaN  \n",
       "..                             ...                         ...  \n",
       "333                            NaN                         NaN  \n",
       "334                            NaN                         NaN  \n",
       "335                            NaN                         NaN  \n",
       "336                            NaN                         NaN  \n",
       "337                            NaN                         NaN  \n",
       "\n",
       "[338 rows x 9 columns]"
      ]
     },
     "execution_count": 10,
     "metadata": {},
     "output_type": "execute_result"
    }
   ],
   "source": [
    "# Definindo um valor nominal para cálculo do valor real\n",
    "df_2.loc[1, 'Valor Nominal (R$) - Jan/1994'] = 1000\n",
    "\n",
    "# Valor real obtido através do cálculo: Valor Nominal / (Número Índice Atual / Núm. Índice Dez/1993) - 1\n",
    "df_2.loc[1, 'Valor Real (R$) - ' + mes_recente] = df_2['Valor Nominal (R$) - Jan/1994'].iloc[1] / (df_2['NÚMERO_ÍNDICE'].iloc[-1] / df_2['NÚMERO_ÍNDICE'].iloc[0]) - 1\n",
    "\n",
    "df_2"
   ]
  },
  {
   "cell_type": "code",
   "execution_count": 11,
   "metadata": {},
   "outputs": [],
   "source": [
    "# Convertendo a coluna de valor real para inteiro\n",
    "df_2['Valor Real (R$) - JAN\\\\2022'] = df_2['Valor Real (R$) - JAN\\\\2022'].apply(pd.to_numeric, errors='coerce')"
   ]
  },
  {
   "cell_type": "code",
   "execution_count": 12,
   "metadata": {},
   "outputs": [],
   "source": [
    "# Salvando o arquivo já com toda a formatação aplicada\n",
    "df_2.to_csv('output\\\\arquivo_formatado.csv', index=False, decimal=',', encoding='utf-8-sig', sep=';')"
   ]
  },
  {
   "cell_type": "markdown",
   "metadata": {},
   "source": [
    "## Gráficos"
   ]
  },
  {
   "cell_type": "code",
   "execution_count": 13,
   "metadata": {},
   "outputs": [
    {
     "data": {
      "text/html": [
       "<div>\n",
       "<style scoped>\n",
       "    .dataframe tbody tr th:only-of-type {\n",
       "        vertical-align: middle;\n",
       "    }\n",
       "\n",
       "    .dataframe tbody tr th {\n",
       "        vertical-align: top;\n",
       "    }\n",
       "\n",
       "    .dataframe thead th {\n",
       "        text-align: right;\n",
       "    }\n",
       "</style>\n",
       "<table border=\"1\" class=\"dataframe\">\n",
       "  <thead>\n",
       "    <tr style=\"text-align: right;\">\n",
       "      <th></th>\n",
       "      <th>ANO_MES</th>\n",
       "      <th>NÚMERO_ÍNDICE</th>\n",
       "      <th>NO_MÊS</th>\n",
       "      <th>3_MESES</th>\n",
       "      <th>6_MESES</th>\n",
       "      <th>NO_ANO</th>\n",
       "      <th>12_MESES</th>\n",
       "      <th>Valor Nominal (R$) - Jan/1994</th>\n",
       "      <th>Valor Real (R$) - JAN\\2022</th>\n",
       "      <th>ANO</th>\n",
       "    </tr>\n",
       "  </thead>\n",
       "  <tbody>\n",
       "    <tr>\n",
       "      <th>0</th>\n",
       "      <td>DEZ\\1993</td>\n",
       "      <td>100.00</td>\n",
       "      <td>36.84</td>\n",
       "      <td>0.00</td>\n",
       "      <td>0.00</td>\n",
       "      <td>0.00</td>\n",
       "      <td>0.00</td>\n",
       "      <td>0.0</td>\n",
       "      <td>0.000000</td>\n",
       "      <td>1993</td>\n",
       "    </tr>\n",
       "    <tr>\n",
       "      <th>1</th>\n",
       "      <td>JAN\\1994</td>\n",
       "      <td>141.31</td>\n",
       "      <td>41.31</td>\n",
       "      <td>162.13</td>\n",
       "      <td>533.33</td>\n",
       "      <td>41.31</td>\n",
       "      <td>2693.84</td>\n",
       "      <td>1000.0</td>\n",
       "      <td>15.251997</td>\n",
       "      <td>1994</td>\n",
       "    </tr>\n",
       "    <tr>\n",
       "      <th>2</th>\n",
       "      <td>FEV\\1994</td>\n",
       "      <td>198.22</td>\n",
       "      <td>40.27</td>\n",
       "      <td>171.24</td>\n",
       "      <td>568.17</td>\n",
       "      <td>98.22</td>\n",
       "      <td>3035.71</td>\n",
       "      <td>NaN</td>\n",
       "      <td>NaN</td>\n",
       "      <td>1994</td>\n",
       "    </tr>\n",
       "    <tr>\n",
       "      <th>3</th>\n",
       "      <td>MAR\\1994</td>\n",
       "      <td>282.96</td>\n",
       "      <td>42.75</td>\n",
       "      <td>182.96</td>\n",
       "      <td>602.93</td>\n",
       "      <td>182.96</td>\n",
       "      <td>3417.39</td>\n",
       "      <td>NaN</td>\n",
       "      <td>NaN</td>\n",
       "      <td>1994</td>\n",
       "    </tr>\n",
       "    <tr>\n",
       "      <th>4</th>\n",
       "      <td>ABR\\1994</td>\n",
       "      <td>403.73</td>\n",
       "      <td>42.68</td>\n",
       "      <td>185.71</td>\n",
       "      <td>648.92</td>\n",
       "      <td>303.73</td>\n",
       "      <td>3828.49</td>\n",
       "      <td>NaN</td>\n",
       "      <td>NaN</td>\n",
       "      <td>1994</td>\n",
       "    </tr>\n",
       "    <tr>\n",
       "      <th>...</th>\n",
       "      <td>...</td>\n",
       "      <td>...</td>\n",
       "      <td>...</td>\n",
       "      <td>...</td>\n",
       "      <td>...</td>\n",
       "      <td>...</td>\n",
       "      <td>...</td>\n",
       "      <td>...</td>\n",
       "      <td>...</td>\n",
       "      <td>...</td>\n",
       "    </tr>\n",
       "    <tr>\n",
       "      <th>333</th>\n",
       "      <td>SET\\2021</td>\n",
       "      <td>5944.21</td>\n",
       "      <td>1.16</td>\n",
       "      <td>3.02</td>\n",
       "      <td>4.75</td>\n",
       "      <td>6.90</td>\n",
       "      <td>10.25</td>\n",
       "      <td>NaN</td>\n",
       "      <td>NaN</td>\n",
       "      <td>2021</td>\n",
       "    </tr>\n",
       "    <tr>\n",
       "      <th>334</th>\n",
       "      <td>OUT\\2021</td>\n",
       "      <td>6018.51</td>\n",
       "      <td>1.25</td>\n",
       "      <td>3.32</td>\n",
       "      <td>5.73</td>\n",
       "      <td>8.24</td>\n",
       "      <td>10.67</td>\n",
       "      <td>NaN</td>\n",
       "      <td>NaN</td>\n",
       "      <td>2021</td>\n",
       "    </tr>\n",
       "    <tr>\n",
       "      <th>335</th>\n",
       "      <td>NOV\\2021</td>\n",
       "      <td>6075.69</td>\n",
       "      <td>0.95</td>\n",
       "      <td>3.40</td>\n",
       "      <td>5.86</td>\n",
       "      <td>9.26</td>\n",
       "      <td>10.74</td>\n",
       "      <td>NaN</td>\n",
       "      <td>NaN</td>\n",
       "      <td>2021</td>\n",
       "    </tr>\n",
       "    <tr>\n",
       "      <th>336</th>\n",
       "      <td>DEZ\\2021</td>\n",
       "      <td>6120.04</td>\n",
       "      <td>0.73</td>\n",
       "      <td>2.96</td>\n",
       "      <td>6.07</td>\n",
       "      <td>10.06</td>\n",
       "      <td>10.06</td>\n",
       "      <td>NaN</td>\n",
       "      <td>NaN</td>\n",
       "      <td>2021</td>\n",
       "    </tr>\n",
       "    <tr>\n",
       "      <th>337</th>\n",
       "      <td>JAN\\2022</td>\n",
       "      <td>6153.09</td>\n",
       "      <td>0.54</td>\n",
       "      <td>2.24</td>\n",
       "      <td>5.63</td>\n",
       "      <td>0.54</td>\n",
       "      <td>10.38</td>\n",
       "      <td>NaN</td>\n",
       "      <td>NaN</td>\n",
       "      <td>2022</td>\n",
       "    </tr>\n",
       "  </tbody>\n",
       "</table>\n",
       "<p>338 rows × 10 columns</p>\n",
       "</div>"
      ],
      "text/plain": [
       "      ANO_MES  NÚMERO_ÍNDICE  NO_MÊS  3_MESES  6_MESES  NO_ANO  12_MESES  \\\n",
       "0    DEZ\\1993         100.00   36.84     0.00     0.00    0.00      0.00   \n",
       "1    JAN\\1994         141.31   41.31   162.13   533.33   41.31   2693.84   \n",
       "2    FEV\\1994         198.22   40.27   171.24   568.17   98.22   3035.71   \n",
       "3    MAR\\1994         282.96   42.75   182.96   602.93  182.96   3417.39   \n",
       "4    ABR\\1994         403.73   42.68   185.71   648.92  303.73   3828.49   \n",
       "..        ...            ...     ...      ...      ...     ...       ...   \n",
       "333  SET\\2021        5944.21    1.16     3.02     4.75    6.90     10.25   \n",
       "334  OUT\\2021        6018.51    1.25     3.32     5.73    8.24     10.67   \n",
       "335  NOV\\2021        6075.69    0.95     3.40     5.86    9.26     10.74   \n",
       "336  DEZ\\2021        6120.04    0.73     2.96     6.07   10.06     10.06   \n",
       "337  JAN\\2022        6153.09    0.54     2.24     5.63    0.54     10.38   \n",
       "\n",
       "     Valor Nominal (R$) - Jan/1994  Valor Real (R$) - JAN\\2022   ANO  \n",
       "0                              0.0                    0.000000  1993  \n",
       "1                           1000.0                   15.251997  1994  \n",
       "2                              NaN                         NaN  1994  \n",
       "3                              NaN                         NaN  1994  \n",
       "4                              NaN                         NaN  1994  \n",
       "..                             ...                         ...   ...  \n",
       "333                            NaN                         NaN  2021  \n",
       "334                            NaN                         NaN  2021  \n",
       "335                            NaN                         NaN  2021  \n",
       "336                            NaN                         NaN  2021  \n",
       "337                            NaN                         NaN  2022  \n",
       "\n",
       "[338 rows x 10 columns]"
      ]
     },
     "execution_count": 13,
     "metadata": {},
     "output_type": "execute_result"
    }
   ],
   "source": [
    "# Criando uma coluna para Ano para auxiliar na elaboração visual\n",
    "df_2['ANO'] = df_2['ANO_MES'].str.split('\\\\').str[1]\n",
    "df_2"
   ]
  },
  {
   "cell_type": "code",
   "execution_count": 14,
   "metadata": {},
   "outputs": [
    {
     "data": {
      "text/html": [
       "<div>\n",
       "<style scoped>\n",
       "    .dataframe tbody tr th:only-of-type {\n",
       "        vertical-align: middle;\n",
       "    }\n",
       "\n",
       "    .dataframe tbody tr th {\n",
       "        vertical-align: top;\n",
       "    }\n",
       "\n",
       "    .dataframe thead th {\n",
       "        text-align: right;\n",
       "    }\n",
       "</style>\n",
       "<table border=\"1\" class=\"dataframe\">\n",
       "  <thead>\n",
       "    <tr style=\"text-align: right;\">\n",
       "      <th></th>\n",
       "      <th>ANO_MES</th>\n",
       "      <th>NÚMERO_ÍNDICE</th>\n",
       "      <th>NO_MÊS</th>\n",
       "      <th>3_MESES</th>\n",
       "      <th>6_MESES</th>\n",
       "      <th>NO_ANO</th>\n",
       "      <th>12_MESES</th>\n",
       "      <th>Valor Nominal (R$) - Jan/1994</th>\n",
       "      <th>Valor Real (R$) - JAN\\2022</th>\n",
       "      <th>ANO</th>\n",
       "    </tr>\n",
       "  </thead>\n",
       "  <tbody>\n",
       "    <tr>\n",
       "      <th>84</th>\n",
       "      <td>DEZ\\2000</td>\n",
       "      <td>1683.47</td>\n",
       "      <td>0.59</td>\n",
       "      <td>1.05</td>\n",
       "      <td>4.26</td>\n",
       "      <td>5.97</td>\n",
       "      <td>5.97</td>\n",
       "      <td>NaN</td>\n",
       "      <td>NaN</td>\n",
       "      <td>2000</td>\n",
       "    </tr>\n",
       "    <tr>\n",
       "      <th>96</th>\n",
       "      <td>DEZ\\2001</td>\n",
       "      <td>1812.65</td>\n",
       "      <td>0.65</td>\n",
       "      <td>2.21</td>\n",
       "      <td>4.58</td>\n",
       "      <td>7.67</td>\n",
       "      <td>7.67</td>\n",
       "      <td>NaN</td>\n",
       "      <td>NaN</td>\n",
       "      <td>2001</td>\n",
       "    </tr>\n",
       "    <tr>\n",
       "      <th>108</th>\n",
       "      <td>DEZ\\2002</td>\n",
       "      <td>2039.78</td>\n",
       "      <td>2.10</td>\n",
       "      <td>6.56</td>\n",
       "      <td>9.31</td>\n",
       "      <td>12.53</td>\n",
       "      <td>12.53</td>\n",
       "      <td>NaN</td>\n",
       "      <td>NaN</td>\n",
       "      <td>2002</td>\n",
       "    </tr>\n",
       "    <tr>\n",
       "      <th>120</th>\n",
       "      <td>DEZ\\2003</td>\n",
       "      <td>2229.49</td>\n",
       "      <td>0.52</td>\n",
       "      <td>1.15</td>\n",
       "      <td>2.49</td>\n",
       "      <td>9.30</td>\n",
       "      <td>9.30</td>\n",
       "      <td>NaN</td>\n",
       "      <td>NaN</td>\n",
       "      <td>2003</td>\n",
       "    </tr>\n",
       "    <tr>\n",
       "      <th>132</th>\n",
       "      <td>DEZ\\2004</td>\n",
       "      <td>2398.92</td>\n",
       "      <td>0.86</td>\n",
       "      <td>2.00</td>\n",
       "      <td>3.98</td>\n",
       "      <td>7.60</td>\n",
       "      <td>7.60</td>\n",
       "      <td>NaN</td>\n",
       "      <td>NaN</td>\n",
       "      <td>2004</td>\n",
       "    </tr>\n",
       "    <tr>\n",
       "      <th>144</th>\n",
       "      <td>DEZ\\2005</td>\n",
       "      <td>2535.40</td>\n",
       "      <td>0.36</td>\n",
       "      <td>1.67</td>\n",
       "      <td>2.45</td>\n",
       "      <td>5.69</td>\n",
       "      <td>5.69</td>\n",
       "      <td>NaN</td>\n",
       "      <td>NaN</td>\n",
       "      <td>2005</td>\n",
       "    </tr>\n",
       "    <tr>\n",
       "      <th>156</th>\n",
       "      <td>DEZ\\2006</td>\n",
       "      <td>2615.05</td>\n",
       "      <td>0.48</td>\n",
       "      <td>1.12</td>\n",
       "      <td>1.58</td>\n",
       "      <td>3.14</td>\n",
       "      <td>3.14</td>\n",
       "      <td>NaN</td>\n",
       "      <td>NaN</td>\n",
       "      <td>2006</td>\n",
       "    </tr>\n",
       "    <tr>\n",
       "      <th>168</th>\n",
       "      <td>DEZ\\2007</td>\n",
       "      <td>2731.62</td>\n",
       "      <td>0.74</td>\n",
       "      <td>1.43</td>\n",
       "      <td>2.33</td>\n",
       "      <td>4.46</td>\n",
       "      <td>4.46</td>\n",
       "      <td>NaN</td>\n",
       "      <td>NaN</td>\n",
       "      <td>2007</td>\n",
       "    </tr>\n",
       "    <tr>\n",
       "      <th>180</th>\n",
       "      <td>DEZ\\2008</td>\n",
       "      <td>2892.86</td>\n",
       "      <td>0.28</td>\n",
       "      <td>1.09</td>\n",
       "      <td>2.18</td>\n",
       "      <td>5.90</td>\n",
       "      <td>5.90</td>\n",
       "      <td>NaN</td>\n",
       "      <td>NaN</td>\n",
       "      <td>2008</td>\n",
       "    </tr>\n",
       "    <tr>\n",
       "      <th>192</th>\n",
       "      <td>DEZ\\2009</td>\n",
       "      <td>3017.59</td>\n",
       "      <td>0.37</td>\n",
       "      <td>1.06</td>\n",
       "      <td>1.70</td>\n",
       "      <td>4.31</td>\n",
       "      <td>4.31</td>\n",
       "      <td>NaN</td>\n",
       "      <td>NaN</td>\n",
       "      <td>2009</td>\n",
       "    </tr>\n",
       "    <tr>\n",
       "      <th>204</th>\n",
       "      <td>DEZ\\2010</td>\n",
       "      <td>3195.89</td>\n",
       "      <td>0.63</td>\n",
       "      <td>2.23</td>\n",
       "      <td>2.74</td>\n",
       "      <td>5.91</td>\n",
       "      <td>5.91</td>\n",
       "      <td>NaN</td>\n",
       "      <td>NaN</td>\n",
       "      <td>2010</td>\n",
       "    </tr>\n",
       "    <tr>\n",
       "      <th>216</th>\n",
       "      <td>DEZ\\2011</td>\n",
       "      <td>3403.73</td>\n",
       "      <td>0.50</td>\n",
       "      <td>1.46</td>\n",
       "      <td>2.54</td>\n",
       "      <td>6.50</td>\n",
       "      <td>6.50</td>\n",
       "      <td>NaN</td>\n",
       "      <td>NaN</td>\n",
       "      <td>2011</td>\n",
       "    </tr>\n",
       "    <tr>\n",
       "      <th>228</th>\n",
       "      <td>DEZ\\2012</td>\n",
       "      <td>3602.46</td>\n",
       "      <td>0.79</td>\n",
       "      <td>1.99</td>\n",
       "      <td>3.44</td>\n",
       "      <td>5.84</td>\n",
       "      <td>5.84</td>\n",
       "      <td>NaN</td>\n",
       "      <td>NaN</td>\n",
       "      <td>2012</td>\n",
       "    </tr>\n",
       "    <tr>\n",
       "      <th>240</th>\n",
       "      <td>DEZ\\2013</td>\n",
       "      <td>3815.39</td>\n",
       "      <td>0.92</td>\n",
       "      <td>2.04</td>\n",
       "      <td>2.68</td>\n",
       "      <td>5.91</td>\n",
       "      <td>5.91</td>\n",
       "      <td>NaN</td>\n",
       "      <td>NaN</td>\n",
       "      <td>2013</td>\n",
       "    </tr>\n",
       "    <tr>\n",
       "      <th>252</th>\n",
       "      <td>DEZ\\2014</td>\n",
       "      <td>4059.86</td>\n",
       "      <td>0.78</td>\n",
       "      <td>1.72</td>\n",
       "      <td>2.57</td>\n",
       "      <td>6.41</td>\n",
       "      <td>6.41</td>\n",
       "      <td>NaN</td>\n",
       "      <td>NaN</td>\n",
       "      <td>2014</td>\n",
       "    </tr>\n",
       "    <tr>\n",
       "      <th>264</th>\n",
       "      <td>DEZ\\2015</td>\n",
       "      <td>4493.17</td>\n",
       "      <td>0.96</td>\n",
       "      <td>2.82</td>\n",
       "      <td>4.24</td>\n",
       "      <td>10.67</td>\n",
       "      <td>10.67</td>\n",
       "      <td>NaN</td>\n",
       "      <td>NaN</td>\n",
       "      <td>2015</td>\n",
       "    </tr>\n",
       "    <tr>\n",
       "      <th>276</th>\n",
       "      <td>DEZ\\2016</td>\n",
       "      <td>4775.70</td>\n",
       "      <td>0.30</td>\n",
       "      <td>0.74</td>\n",
       "      <td>1.79</td>\n",
       "      <td>6.29</td>\n",
       "      <td>6.29</td>\n",
       "      <td>NaN</td>\n",
       "      <td>NaN</td>\n",
       "      <td>2016</td>\n",
       "    </tr>\n",
       "    <tr>\n",
       "      <th>288</th>\n",
       "      <td>DEZ\\2017</td>\n",
       "      <td>4916.46</td>\n",
       "      <td>0.44</td>\n",
       "      <td>1.14</td>\n",
       "      <td>1.74</td>\n",
       "      <td>2.95</td>\n",
       "      <td>2.95</td>\n",
       "      <td>NaN</td>\n",
       "      <td>NaN</td>\n",
       "      <td>2017</td>\n",
       "    </tr>\n",
       "    <tr>\n",
       "      <th>300</th>\n",
       "      <td>DEZ\\2018</td>\n",
       "      <td>5100.61</td>\n",
       "      <td>0.15</td>\n",
       "      <td>0.39</td>\n",
       "      <td>1.11</td>\n",
       "      <td>3.75</td>\n",
       "      <td>3.75</td>\n",
       "      <td>NaN</td>\n",
       "      <td>NaN</td>\n",
       "      <td>2018</td>\n",
       "    </tr>\n",
       "    <tr>\n",
       "      <th>312</th>\n",
       "      <td>DEZ\\2019</td>\n",
       "      <td>5320.25</td>\n",
       "      <td>1.15</td>\n",
       "      <td>1.77</td>\n",
       "      <td>2.03</td>\n",
       "      <td>4.31</td>\n",
       "      <td>4.31</td>\n",
       "      <td>NaN</td>\n",
       "      <td>NaN</td>\n",
       "      <td>2019</td>\n",
       "    </tr>\n",
       "    <tr>\n",
       "      <th>324</th>\n",
       "      <td>DEZ\\2020</td>\n",
       "      <td>5560.59</td>\n",
       "      <td>1.35</td>\n",
       "      <td>3.13</td>\n",
       "      <td>4.42</td>\n",
       "      <td>4.52</td>\n",
       "      <td>4.52</td>\n",
       "      <td>NaN</td>\n",
       "      <td>NaN</td>\n",
       "      <td>2020</td>\n",
       "    </tr>\n",
       "    <tr>\n",
       "      <th>336</th>\n",
       "      <td>DEZ\\2021</td>\n",
       "      <td>6120.04</td>\n",
       "      <td>0.73</td>\n",
       "      <td>2.96</td>\n",
       "      <td>6.07</td>\n",
       "      <td>10.06</td>\n",
       "      <td>10.06</td>\n",
       "      <td>NaN</td>\n",
       "      <td>NaN</td>\n",
       "      <td>2021</td>\n",
       "    </tr>\n",
       "  </tbody>\n",
       "</table>\n",
       "</div>"
      ],
      "text/plain": [
       "      ANO_MES  NÚMERO_ÍNDICE  NO_MÊS  3_MESES  6_MESES  NO_ANO  12_MESES  \\\n",
       "84   DEZ\\2000        1683.47    0.59     1.05     4.26    5.97      5.97   \n",
       "96   DEZ\\2001        1812.65    0.65     2.21     4.58    7.67      7.67   \n",
       "108  DEZ\\2002        2039.78    2.10     6.56     9.31   12.53     12.53   \n",
       "120  DEZ\\2003        2229.49    0.52     1.15     2.49    9.30      9.30   \n",
       "132  DEZ\\2004        2398.92    0.86     2.00     3.98    7.60      7.60   \n",
       "144  DEZ\\2005        2535.40    0.36     1.67     2.45    5.69      5.69   \n",
       "156  DEZ\\2006        2615.05    0.48     1.12     1.58    3.14      3.14   \n",
       "168  DEZ\\2007        2731.62    0.74     1.43     2.33    4.46      4.46   \n",
       "180  DEZ\\2008        2892.86    0.28     1.09     2.18    5.90      5.90   \n",
       "192  DEZ\\2009        3017.59    0.37     1.06     1.70    4.31      4.31   \n",
       "204  DEZ\\2010        3195.89    0.63     2.23     2.74    5.91      5.91   \n",
       "216  DEZ\\2011        3403.73    0.50     1.46     2.54    6.50      6.50   \n",
       "228  DEZ\\2012        3602.46    0.79     1.99     3.44    5.84      5.84   \n",
       "240  DEZ\\2013        3815.39    0.92     2.04     2.68    5.91      5.91   \n",
       "252  DEZ\\2014        4059.86    0.78     1.72     2.57    6.41      6.41   \n",
       "264  DEZ\\2015        4493.17    0.96     2.82     4.24   10.67     10.67   \n",
       "276  DEZ\\2016        4775.70    0.30     0.74     1.79    6.29      6.29   \n",
       "288  DEZ\\2017        4916.46    0.44     1.14     1.74    2.95      2.95   \n",
       "300  DEZ\\2018        5100.61    0.15     0.39     1.11    3.75      3.75   \n",
       "312  DEZ\\2019        5320.25    1.15     1.77     2.03    4.31      4.31   \n",
       "324  DEZ\\2020        5560.59    1.35     3.13     4.42    4.52      4.52   \n",
       "336  DEZ\\2021        6120.04    0.73     2.96     6.07   10.06     10.06   \n",
       "\n",
       "     Valor Nominal (R$) - Jan/1994  Valor Real (R$) - JAN\\2022   ANO  \n",
       "84                             NaN                         NaN  2000  \n",
       "96                             NaN                         NaN  2001  \n",
       "108                            NaN                         NaN  2002  \n",
       "120                            NaN                         NaN  2003  \n",
       "132                            NaN                         NaN  2004  \n",
       "144                            NaN                         NaN  2005  \n",
       "156                            NaN                         NaN  2006  \n",
       "168                            NaN                         NaN  2007  \n",
       "180                            NaN                         NaN  2008  \n",
       "192                            NaN                         NaN  2009  \n",
       "204                            NaN                         NaN  2010  \n",
       "216                            NaN                         NaN  2011  \n",
       "228                            NaN                         NaN  2012  \n",
       "240                            NaN                         NaN  2013  \n",
       "252                            NaN                         NaN  2014  \n",
       "264                            NaN                         NaN  2015  \n",
       "276                            NaN                         NaN  2016  \n",
       "288                            NaN                         NaN  2017  \n",
       "300                            NaN                         NaN  2018  \n",
       "312                            NaN                         NaN  2019  \n",
       "324                            NaN                         NaN  2020  \n",
       "336                            NaN                         NaN  2021  "
      ]
     },
     "execution_count": 14,
     "metadata": {},
     "output_type": "execute_result"
    }
   ],
   "source": [
    "# Convertendo a coluna de Ano para inteiro\n",
    "df_2['ANO'] = df_2['ANO'].apply(pd.to_numeric, errors='coerce')\n",
    "\n",
    "# Realizando um filtro para selecionar informações posteriores a 1999 para apenas o mês de Dezembro\n",
    "df_2 = df_2[(df_2['ANO'] > 1999) & (df_2['ANO_MES'].str.contains('DEZ'))]\n",
    "df_2"
   ]
  },
  {
   "cell_type": "code",
   "execution_count": 32,
   "metadata": {
    "scrolled": false
   },
   "outputs": [
    {
     "data": {
      "application/vnd.plotly.v1+json": {
       "config": {
        "plotlyServerURL": "https://plot.ly"
       },
       "data": [
        {
         "alignmentgroup": "True",
         "cliponaxis": false,
         "hovertemplate": "ANO=%{x}<br>NO_ANO=%{y}<extra></extra>",
         "legendgroup": "",
         "marker": {
          "color": "midnightblue",
          "pattern": {
           "shape": ""
          }
         },
         "name": "",
         "offsetgroup": "",
         "orientation": "v",
         "showlegend": false,
         "textangle": 0,
         "textfont": {
          "size": 9
         },
         "textposition": "outside",
         "texttemplate": "%{y}",
         "type": "bar",
         "x": [
          2000,
          2001,
          2002,
          2003,
          2004,
          2005,
          2006,
          2007,
          2008,
          2009,
          2010,
          2011,
          2012,
          2013,
          2014,
          2015,
          2016,
          2017,
          2018,
          2019,
          2020,
          2021
         ],
         "xaxis": "x",
         "y": [
          5.97,
          7.67,
          12.53,
          9.3,
          7.6,
          5.69,
          3.14,
          4.46,
          5.9,
          4.31,
          5.91,
          6.5,
          5.84,
          5.91,
          6.41,
          10.67,
          6.29,
          2.95,
          3.75,
          4.31,
          4.52,
          10.06
         ],
         "yaxis": "y"
        }
       ],
       "layout": {
        "barmode": "relative",
        "legend": {
         "tracegroupgap": 0
        },
        "margin": {
         "t": 60
        },
        "paper_bgcolor": "rgb(255,255,255)",
        "plot_bgcolor": "rgb(255,255,255)",
        "template": {
         "data": {
          "bar": [
           {
            "error_x": {
             "color": "#2a3f5f"
            },
            "error_y": {
             "color": "#2a3f5f"
            },
            "marker": {
             "line": {
              "color": "#E5ECF6",
              "width": 0.5
             },
             "pattern": {
              "fillmode": "overlay",
              "size": 10,
              "solidity": 0.2
             }
            },
            "type": "bar"
           }
          ],
          "barpolar": [
           {
            "marker": {
             "line": {
              "color": "#E5ECF6",
              "width": 0.5
             },
             "pattern": {
              "fillmode": "overlay",
              "size": 10,
              "solidity": 0.2
             }
            },
            "type": "barpolar"
           }
          ],
          "carpet": [
           {
            "aaxis": {
             "endlinecolor": "#2a3f5f",
             "gridcolor": "white",
             "linecolor": "white",
             "minorgridcolor": "white",
             "startlinecolor": "#2a3f5f"
            },
            "baxis": {
             "endlinecolor": "#2a3f5f",
             "gridcolor": "white",
             "linecolor": "white",
             "minorgridcolor": "white",
             "startlinecolor": "#2a3f5f"
            },
            "type": "carpet"
           }
          ],
          "choropleth": [
           {
            "colorbar": {
             "outlinewidth": 0,
             "ticks": ""
            },
            "type": "choropleth"
           }
          ],
          "contour": [
           {
            "colorbar": {
             "outlinewidth": 0,
             "ticks": ""
            },
            "colorscale": [
             [
              0,
              "#0d0887"
             ],
             [
              0.1111111111111111,
              "#46039f"
             ],
             [
              0.2222222222222222,
              "#7201a8"
             ],
             [
              0.3333333333333333,
              "#9c179e"
             ],
             [
              0.4444444444444444,
              "#bd3786"
             ],
             [
              0.5555555555555556,
              "#d8576b"
             ],
             [
              0.6666666666666666,
              "#ed7953"
             ],
             [
              0.7777777777777778,
              "#fb9f3a"
             ],
             [
              0.8888888888888888,
              "#fdca26"
             ],
             [
              1,
              "#f0f921"
             ]
            ],
            "type": "contour"
           }
          ],
          "contourcarpet": [
           {
            "colorbar": {
             "outlinewidth": 0,
             "ticks": ""
            },
            "type": "contourcarpet"
           }
          ],
          "heatmap": [
           {
            "colorbar": {
             "outlinewidth": 0,
             "ticks": ""
            },
            "colorscale": [
             [
              0,
              "#0d0887"
             ],
             [
              0.1111111111111111,
              "#46039f"
             ],
             [
              0.2222222222222222,
              "#7201a8"
             ],
             [
              0.3333333333333333,
              "#9c179e"
             ],
             [
              0.4444444444444444,
              "#bd3786"
             ],
             [
              0.5555555555555556,
              "#d8576b"
             ],
             [
              0.6666666666666666,
              "#ed7953"
             ],
             [
              0.7777777777777778,
              "#fb9f3a"
             ],
             [
              0.8888888888888888,
              "#fdca26"
             ],
             [
              1,
              "#f0f921"
             ]
            ],
            "type": "heatmap"
           }
          ],
          "heatmapgl": [
           {
            "colorbar": {
             "outlinewidth": 0,
             "ticks": ""
            },
            "colorscale": [
             [
              0,
              "#0d0887"
             ],
             [
              0.1111111111111111,
              "#46039f"
             ],
             [
              0.2222222222222222,
              "#7201a8"
             ],
             [
              0.3333333333333333,
              "#9c179e"
             ],
             [
              0.4444444444444444,
              "#bd3786"
             ],
             [
              0.5555555555555556,
              "#d8576b"
             ],
             [
              0.6666666666666666,
              "#ed7953"
             ],
             [
              0.7777777777777778,
              "#fb9f3a"
             ],
             [
              0.8888888888888888,
              "#fdca26"
             ],
             [
              1,
              "#f0f921"
             ]
            ],
            "type": "heatmapgl"
           }
          ],
          "histogram": [
           {
            "marker": {
             "pattern": {
              "fillmode": "overlay",
              "size": 10,
              "solidity": 0.2
             }
            },
            "type": "histogram"
           }
          ],
          "histogram2d": [
           {
            "colorbar": {
             "outlinewidth": 0,
             "ticks": ""
            },
            "colorscale": [
             [
              0,
              "#0d0887"
             ],
             [
              0.1111111111111111,
              "#46039f"
             ],
             [
              0.2222222222222222,
              "#7201a8"
             ],
             [
              0.3333333333333333,
              "#9c179e"
             ],
             [
              0.4444444444444444,
              "#bd3786"
             ],
             [
              0.5555555555555556,
              "#d8576b"
             ],
             [
              0.6666666666666666,
              "#ed7953"
             ],
             [
              0.7777777777777778,
              "#fb9f3a"
             ],
             [
              0.8888888888888888,
              "#fdca26"
             ],
             [
              1,
              "#f0f921"
             ]
            ],
            "type": "histogram2d"
           }
          ],
          "histogram2dcontour": [
           {
            "colorbar": {
             "outlinewidth": 0,
             "ticks": ""
            },
            "colorscale": [
             [
              0,
              "#0d0887"
             ],
             [
              0.1111111111111111,
              "#46039f"
             ],
             [
              0.2222222222222222,
              "#7201a8"
             ],
             [
              0.3333333333333333,
              "#9c179e"
             ],
             [
              0.4444444444444444,
              "#bd3786"
             ],
             [
              0.5555555555555556,
              "#d8576b"
             ],
             [
              0.6666666666666666,
              "#ed7953"
             ],
             [
              0.7777777777777778,
              "#fb9f3a"
             ],
             [
              0.8888888888888888,
              "#fdca26"
             ],
             [
              1,
              "#f0f921"
             ]
            ],
            "type": "histogram2dcontour"
           }
          ],
          "mesh3d": [
           {
            "colorbar": {
             "outlinewidth": 0,
             "ticks": ""
            },
            "type": "mesh3d"
           }
          ],
          "parcoords": [
           {
            "line": {
             "colorbar": {
              "outlinewidth": 0,
              "ticks": ""
             }
            },
            "type": "parcoords"
           }
          ],
          "pie": [
           {
            "automargin": true,
            "type": "pie"
           }
          ],
          "scatter": [
           {
            "marker": {
             "colorbar": {
              "outlinewidth": 0,
              "ticks": ""
             }
            },
            "type": "scatter"
           }
          ],
          "scatter3d": [
           {
            "line": {
             "colorbar": {
              "outlinewidth": 0,
              "ticks": ""
             }
            },
            "marker": {
             "colorbar": {
              "outlinewidth": 0,
              "ticks": ""
             }
            },
            "type": "scatter3d"
           }
          ],
          "scattercarpet": [
           {
            "marker": {
             "colorbar": {
              "outlinewidth": 0,
              "ticks": ""
             }
            },
            "type": "scattercarpet"
           }
          ],
          "scattergeo": [
           {
            "marker": {
             "colorbar": {
              "outlinewidth": 0,
              "ticks": ""
             }
            },
            "type": "scattergeo"
           }
          ],
          "scattergl": [
           {
            "marker": {
             "colorbar": {
              "outlinewidth": 0,
              "ticks": ""
             }
            },
            "type": "scattergl"
           }
          ],
          "scattermapbox": [
           {
            "marker": {
             "colorbar": {
              "outlinewidth": 0,
              "ticks": ""
             }
            },
            "type": "scattermapbox"
           }
          ],
          "scatterpolar": [
           {
            "marker": {
             "colorbar": {
              "outlinewidth": 0,
              "ticks": ""
             }
            },
            "type": "scatterpolar"
           }
          ],
          "scatterpolargl": [
           {
            "marker": {
             "colorbar": {
              "outlinewidth": 0,
              "ticks": ""
             }
            },
            "type": "scatterpolargl"
           }
          ],
          "scatterternary": [
           {
            "marker": {
             "colorbar": {
              "outlinewidth": 0,
              "ticks": ""
             }
            },
            "type": "scatterternary"
           }
          ],
          "surface": [
           {
            "colorbar": {
             "outlinewidth": 0,
             "ticks": ""
            },
            "colorscale": [
             [
              0,
              "#0d0887"
             ],
             [
              0.1111111111111111,
              "#46039f"
             ],
             [
              0.2222222222222222,
              "#7201a8"
             ],
             [
              0.3333333333333333,
              "#9c179e"
             ],
             [
              0.4444444444444444,
              "#bd3786"
             ],
             [
              0.5555555555555556,
              "#d8576b"
             ],
             [
              0.6666666666666666,
              "#ed7953"
             ],
             [
              0.7777777777777778,
              "#fb9f3a"
             ],
             [
              0.8888888888888888,
              "#fdca26"
             ],
             [
              1,
              "#f0f921"
             ]
            ],
            "type": "surface"
           }
          ],
          "table": [
           {
            "cells": {
             "fill": {
              "color": "#EBF0F8"
             },
             "line": {
              "color": "white"
             }
            },
            "header": {
             "fill": {
              "color": "#C8D4E3"
             },
             "line": {
              "color": "white"
             }
            },
            "type": "table"
           }
          ]
         },
         "layout": {
          "annotationdefaults": {
           "arrowcolor": "#2a3f5f",
           "arrowhead": 0,
           "arrowwidth": 1
          },
          "autotypenumbers": "strict",
          "coloraxis": {
           "colorbar": {
            "outlinewidth": 0,
            "ticks": ""
           }
          },
          "colorscale": {
           "diverging": [
            [
             0,
             "#8e0152"
            ],
            [
             0.1,
             "#c51b7d"
            ],
            [
             0.2,
             "#de77ae"
            ],
            [
             0.3,
             "#f1b6da"
            ],
            [
             0.4,
             "#fde0ef"
            ],
            [
             0.5,
             "#f7f7f7"
            ],
            [
             0.6,
             "#e6f5d0"
            ],
            [
             0.7,
             "#b8e186"
            ],
            [
             0.8,
             "#7fbc41"
            ],
            [
             0.9,
             "#4d9221"
            ],
            [
             1,
             "#276419"
            ]
           ],
           "sequential": [
            [
             0,
             "#0d0887"
            ],
            [
             0.1111111111111111,
             "#46039f"
            ],
            [
             0.2222222222222222,
             "#7201a8"
            ],
            [
             0.3333333333333333,
             "#9c179e"
            ],
            [
             0.4444444444444444,
             "#bd3786"
            ],
            [
             0.5555555555555556,
             "#d8576b"
            ],
            [
             0.6666666666666666,
             "#ed7953"
            ],
            [
             0.7777777777777778,
             "#fb9f3a"
            ],
            [
             0.8888888888888888,
             "#fdca26"
            ],
            [
             1,
             "#f0f921"
            ]
           ],
           "sequentialminus": [
            [
             0,
             "#0d0887"
            ],
            [
             0.1111111111111111,
             "#46039f"
            ],
            [
             0.2222222222222222,
             "#7201a8"
            ],
            [
             0.3333333333333333,
             "#9c179e"
            ],
            [
             0.4444444444444444,
             "#bd3786"
            ],
            [
             0.5555555555555556,
             "#d8576b"
            ],
            [
             0.6666666666666666,
             "#ed7953"
            ],
            [
             0.7777777777777778,
             "#fb9f3a"
            ],
            [
             0.8888888888888888,
             "#fdca26"
            ],
            [
             1,
             "#f0f921"
            ]
           ]
          },
          "colorway": [
           "#636efa",
           "#EF553B",
           "#00cc96",
           "#ab63fa",
           "#FFA15A",
           "#19d3f3",
           "#FF6692",
           "#B6E880",
           "#FF97FF",
           "#FECB52"
          ],
          "font": {
           "color": "#2a3f5f"
          },
          "geo": {
           "bgcolor": "white",
           "lakecolor": "white",
           "landcolor": "#E5ECF6",
           "showlakes": true,
           "showland": true,
           "subunitcolor": "white"
          },
          "hoverlabel": {
           "align": "left"
          },
          "hovermode": "closest",
          "mapbox": {
           "style": "light"
          },
          "paper_bgcolor": "white",
          "plot_bgcolor": "#E5ECF6",
          "polar": {
           "angularaxis": {
            "gridcolor": "white",
            "linecolor": "white",
            "ticks": ""
           },
           "bgcolor": "#E5ECF6",
           "radialaxis": {
            "gridcolor": "white",
            "linecolor": "white",
            "ticks": ""
           }
          },
          "scene": {
           "xaxis": {
            "backgroundcolor": "#E5ECF6",
            "gridcolor": "white",
            "gridwidth": 2,
            "linecolor": "white",
            "showbackground": true,
            "ticks": "",
            "zerolinecolor": "white"
           },
           "yaxis": {
            "backgroundcolor": "#E5ECF6",
            "gridcolor": "white",
            "gridwidth": 2,
            "linecolor": "white",
            "showbackground": true,
            "ticks": "",
            "zerolinecolor": "white"
           },
           "zaxis": {
            "backgroundcolor": "#E5ECF6",
            "gridcolor": "white",
            "gridwidth": 2,
            "linecolor": "white",
            "showbackground": true,
            "ticks": "",
            "zerolinecolor": "white"
           }
          },
          "shapedefaults": {
           "line": {
            "color": "#2a3f5f"
           }
          },
          "ternary": {
           "aaxis": {
            "gridcolor": "white",
            "linecolor": "white",
            "ticks": ""
           },
           "baxis": {
            "gridcolor": "white",
            "linecolor": "white",
            "ticks": ""
           },
           "bgcolor": "#E5ECF6",
           "caxis": {
            "gridcolor": "white",
            "linecolor": "white",
            "ticks": ""
           }
          },
          "title": {
           "x": 0.05
          },
          "xaxis": {
           "automargin": true,
           "gridcolor": "white",
           "linecolor": "white",
           "ticks": "",
           "title": {
            "standoff": 15
           },
           "zerolinecolor": "white",
           "zerolinewidth": 2
          },
          "yaxis": {
           "automargin": true,
           "gridcolor": "white",
           "linecolor": "white",
           "ticks": "",
           "title": {
            "standoff": 15
           },
           "zerolinecolor": "white",
           "zerolinewidth": 2
          }
         }
        },
        "title": {
         "font": {
          "color": "darkslategrey",
          "family": "luminari, fantasy",
          "size": 20
         },
         "text": "Inflação nos últimos anos <br><sup>Variação anual, em %",
         "x": 0.5,
         "xanchor": "center",
         "y": 0.95,
         "yanchor": "top"
        },
        "uniformtext": {
         "minsize": 10,
         "mode": "hide"
        },
        "xaxis": {
         "anchor": "y",
         "domain": [
          0,
          1
         ],
         "tickangle": -60,
         "title": {
          "font": {
           "size": 12
          },
          "text": "Período"
         },
         "type": "category"
        },
        "yaxis": {
         "anchor": "x",
         "domain": [
          0,
          1
         ],
         "title": {
          "font": {
           "size": 12
          },
          "text": "(%)"
         }
        }
       }
      },
      "text/html": [
       "<div>                            <div id=\"1b06e274-46db-40fa-8624-78175697a9b3\" class=\"plotly-graph-div\" style=\"height:525px; width:100%;\"></div>            <script type=\"text/javascript\">                require([\"plotly\"], function(Plotly) {                    window.PLOTLYENV=window.PLOTLYENV || {};                                    if (document.getElementById(\"1b06e274-46db-40fa-8624-78175697a9b3\")) {                    Plotly.newPlot(                        \"1b06e274-46db-40fa-8624-78175697a9b3\",                        [{\"alignmentgroup\":\"True\",\"hovertemplate\":\"ANO=%{x}<br>NO_ANO=%{y}<extra></extra>\",\"legendgroup\":\"\",\"marker\":{\"color\":\"midnightblue\",\"pattern\":{\"shape\":\"\"}},\"name\":\"\",\"offsetgroup\":\"\",\"orientation\":\"v\",\"showlegend\":false,\"textposition\":\"outside\",\"texttemplate\":\"%{y}\",\"x\":[2000,2001,2002,2003,2004,2005,2006,2007,2008,2009,2010,2011,2012,2013,2014,2015,2016,2017,2018,2019,2020,2021],\"xaxis\":\"x\",\"y\":[5.97,7.67,12.53,9.3,7.6,5.69,3.14,4.46,5.9,4.31,5.91,6.5,5.84,5.91,6.41,10.67,6.29,2.95,3.75,4.31,4.52,10.06],\"yaxis\":\"y\",\"type\":\"bar\",\"textfont\":{\"size\":9},\"cliponaxis\":false,\"textangle\":0}],                        {\"template\":{\"data\":{\"bar\":[{\"error_x\":{\"color\":\"#2a3f5f\"},\"error_y\":{\"color\":\"#2a3f5f\"},\"marker\":{\"line\":{\"color\":\"#E5ECF6\",\"width\":0.5},\"pattern\":{\"fillmode\":\"overlay\",\"size\":10,\"solidity\":0.2}},\"type\":\"bar\"}],\"barpolar\":[{\"marker\":{\"line\":{\"color\":\"#E5ECF6\",\"width\":0.5},\"pattern\":{\"fillmode\":\"overlay\",\"size\":10,\"solidity\":0.2}},\"type\":\"barpolar\"}],\"carpet\":[{\"aaxis\":{\"endlinecolor\":\"#2a3f5f\",\"gridcolor\":\"white\",\"linecolor\":\"white\",\"minorgridcolor\":\"white\",\"startlinecolor\":\"#2a3f5f\"},\"baxis\":{\"endlinecolor\":\"#2a3f5f\",\"gridcolor\":\"white\",\"linecolor\":\"white\",\"minorgridcolor\":\"white\",\"startlinecolor\":\"#2a3f5f\"},\"type\":\"carpet\"}],\"choropleth\":[{\"colorbar\":{\"outlinewidth\":0,\"ticks\":\"\"},\"type\":\"choropleth\"}],\"contour\":[{\"colorbar\":{\"outlinewidth\":0,\"ticks\":\"\"},\"colorscale\":[[0.0,\"#0d0887\"],[0.1111111111111111,\"#46039f\"],[0.2222222222222222,\"#7201a8\"],[0.3333333333333333,\"#9c179e\"],[0.4444444444444444,\"#bd3786\"],[0.5555555555555556,\"#d8576b\"],[0.6666666666666666,\"#ed7953\"],[0.7777777777777778,\"#fb9f3a\"],[0.8888888888888888,\"#fdca26\"],[1.0,\"#f0f921\"]],\"type\":\"contour\"}],\"contourcarpet\":[{\"colorbar\":{\"outlinewidth\":0,\"ticks\":\"\"},\"type\":\"contourcarpet\"}],\"heatmap\":[{\"colorbar\":{\"outlinewidth\":0,\"ticks\":\"\"},\"colorscale\":[[0.0,\"#0d0887\"],[0.1111111111111111,\"#46039f\"],[0.2222222222222222,\"#7201a8\"],[0.3333333333333333,\"#9c179e\"],[0.4444444444444444,\"#bd3786\"],[0.5555555555555556,\"#d8576b\"],[0.6666666666666666,\"#ed7953\"],[0.7777777777777778,\"#fb9f3a\"],[0.8888888888888888,\"#fdca26\"],[1.0,\"#f0f921\"]],\"type\":\"heatmap\"}],\"heatmapgl\":[{\"colorbar\":{\"outlinewidth\":0,\"ticks\":\"\"},\"colorscale\":[[0.0,\"#0d0887\"],[0.1111111111111111,\"#46039f\"],[0.2222222222222222,\"#7201a8\"],[0.3333333333333333,\"#9c179e\"],[0.4444444444444444,\"#bd3786\"],[0.5555555555555556,\"#d8576b\"],[0.6666666666666666,\"#ed7953\"],[0.7777777777777778,\"#fb9f3a\"],[0.8888888888888888,\"#fdca26\"],[1.0,\"#f0f921\"]],\"type\":\"heatmapgl\"}],\"histogram\":[{\"marker\":{\"pattern\":{\"fillmode\":\"overlay\",\"size\":10,\"solidity\":0.2}},\"type\":\"histogram\"}],\"histogram2d\":[{\"colorbar\":{\"outlinewidth\":0,\"ticks\":\"\"},\"colorscale\":[[0.0,\"#0d0887\"],[0.1111111111111111,\"#46039f\"],[0.2222222222222222,\"#7201a8\"],[0.3333333333333333,\"#9c179e\"],[0.4444444444444444,\"#bd3786\"],[0.5555555555555556,\"#d8576b\"],[0.6666666666666666,\"#ed7953\"],[0.7777777777777778,\"#fb9f3a\"],[0.8888888888888888,\"#fdca26\"],[1.0,\"#f0f921\"]],\"type\":\"histogram2d\"}],\"histogram2dcontour\":[{\"colorbar\":{\"outlinewidth\":0,\"ticks\":\"\"},\"colorscale\":[[0.0,\"#0d0887\"],[0.1111111111111111,\"#46039f\"],[0.2222222222222222,\"#7201a8\"],[0.3333333333333333,\"#9c179e\"],[0.4444444444444444,\"#bd3786\"],[0.5555555555555556,\"#d8576b\"],[0.6666666666666666,\"#ed7953\"],[0.7777777777777778,\"#fb9f3a\"],[0.8888888888888888,\"#fdca26\"],[1.0,\"#f0f921\"]],\"type\":\"histogram2dcontour\"}],\"mesh3d\":[{\"colorbar\":{\"outlinewidth\":0,\"ticks\":\"\"},\"type\":\"mesh3d\"}],\"parcoords\":[{\"line\":{\"colorbar\":{\"outlinewidth\":0,\"ticks\":\"\"}},\"type\":\"parcoords\"}],\"pie\":[{\"automargin\":true,\"type\":\"pie\"}],\"scatter\":[{\"marker\":{\"colorbar\":{\"outlinewidth\":0,\"ticks\":\"\"}},\"type\":\"scatter\"}],\"scatter3d\":[{\"line\":{\"colorbar\":{\"outlinewidth\":0,\"ticks\":\"\"}},\"marker\":{\"colorbar\":{\"outlinewidth\":0,\"ticks\":\"\"}},\"type\":\"scatter3d\"}],\"scattercarpet\":[{\"marker\":{\"colorbar\":{\"outlinewidth\":0,\"ticks\":\"\"}},\"type\":\"scattercarpet\"}],\"scattergeo\":[{\"marker\":{\"colorbar\":{\"outlinewidth\":0,\"ticks\":\"\"}},\"type\":\"scattergeo\"}],\"scattergl\":[{\"marker\":{\"colorbar\":{\"outlinewidth\":0,\"ticks\":\"\"}},\"type\":\"scattergl\"}],\"scattermapbox\":[{\"marker\":{\"colorbar\":{\"outlinewidth\":0,\"ticks\":\"\"}},\"type\":\"scattermapbox\"}],\"scatterpolar\":[{\"marker\":{\"colorbar\":{\"outlinewidth\":0,\"ticks\":\"\"}},\"type\":\"scatterpolar\"}],\"scatterpolargl\":[{\"marker\":{\"colorbar\":{\"outlinewidth\":0,\"ticks\":\"\"}},\"type\":\"scatterpolargl\"}],\"scatterternary\":[{\"marker\":{\"colorbar\":{\"outlinewidth\":0,\"ticks\":\"\"}},\"type\":\"scatterternary\"}],\"surface\":[{\"colorbar\":{\"outlinewidth\":0,\"ticks\":\"\"},\"colorscale\":[[0.0,\"#0d0887\"],[0.1111111111111111,\"#46039f\"],[0.2222222222222222,\"#7201a8\"],[0.3333333333333333,\"#9c179e\"],[0.4444444444444444,\"#bd3786\"],[0.5555555555555556,\"#d8576b\"],[0.6666666666666666,\"#ed7953\"],[0.7777777777777778,\"#fb9f3a\"],[0.8888888888888888,\"#fdca26\"],[1.0,\"#f0f921\"]],\"type\":\"surface\"}],\"table\":[{\"cells\":{\"fill\":{\"color\":\"#EBF0F8\"},\"line\":{\"color\":\"white\"}},\"header\":{\"fill\":{\"color\":\"#C8D4E3\"},\"line\":{\"color\":\"white\"}},\"type\":\"table\"}]},\"layout\":{\"annotationdefaults\":{\"arrowcolor\":\"#2a3f5f\",\"arrowhead\":0,\"arrowwidth\":1},\"autotypenumbers\":\"strict\",\"coloraxis\":{\"colorbar\":{\"outlinewidth\":0,\"ticks\":\"\"}},\"colorscale\":{\"diverging\":[[0,\"#8e0152\"],[0.1,\"#c51b7d\"],[0.2,\"#de77ae\"],[0.3,\"#f1b6da\"],[0.4,\"#fde0ef\"],[0.5,\"#f7f7f7\"],[0.6,\"#e6f5d0\"],[0.7,\"#b8e186\"],[0.8,\"#7fbc41\"],[0.9,\"#4d9221\"],[1,\"#276419\"]],\"sequential\":[[0.0,\"#0d0887\"],[0.1111111111111111,\"#46039f\"],[0.2222222222222222,\"#7201a8\"],[0.3333333333333333,\"#9c179e\"],[0.4444444444444444,\"#bd3786\"],[0.5555555555555556,\"#d8576b\"],[0.6666666666666666,\"#ed7953\"],[0.7777777777777778,\"#fb9f3a\"],[0.8888888888888888,\"#fdca26\"],[1.0,\"#f0f921\"]],\"sequentialminus\":[[0.0,\"#0d0887\"],[0.1111111111111111,\"#46039f\"],[0.2222222222222222,\"#7201a8\"],[0.3333333333333333,\"#9c179e\"],[0.4444444444444444,\"#bd3786\"],[0.5555555555555556,\"#d8576b\"],[0.6666666666666666,\"#ed7953\"],[0.7777777777777778,\"#fb9f3a\"],[0.8888888888888888,\"#fdca26\"],[1.0,\"#f0f921\"]]},\"colorway\":[\"#636efa\",\"#EF553B\",\"#00cc96\",\"#ab63fa\",\"#FFA15A\",\"#19d3f3\",\"#FF6692\",\"#B6E880\",\"#FF97FF\",\"#FECB52\"],\"font\":{\"color\":\"#2a3f5f\"},\"geo\":{\"bgcolor\":\"white\",\"lakecolor\":\"white\",\"landcolor\":\"#E5ECF6\",\"showlakes\":true,\"showland\":true,\"subunitcolor\":\"white\"},\"hoverlabel\":{\"align\":\"left\"},\"hovermode\":\"closest\",\"mapbox\":{\"style\":\"light\"},\"paper_bgcolor\":\"white\",\"plot_bgcolor\":\"#E5ECF6\",\"polar\":{\"angularaxis\":{\"gridcolor\":\"white\",\"linecolor\":\"white\",\"ticks\":\"\"},\"bgcolor\":\"#E5ECF6\",\"radialaxis\":{\"gridcolor\":\"white\",\"linecolor\":\"white\",\"ticks\":\"\"}},\"scene\":{\"xaxis\":{\"backgroundcolor\":\"#E5ECF6\",\"gridcolor\":\"white\",\"gridwidth\":2,\"linecolor\":\"white\",\"showbackground\":true,\"ticks\":\"\",\"zerolinecolor\":\"white\"},\"yaxis\":{\"backgroundcolor\":\"#E5ECF6\",\"gridcolor\":\"white\",\"gridwidth\":2,\"linecolor\":\"white\",\"showbackground\":true,\"ticks\":\"\",\"zerolinecolor\":\"white\"},\"zaxis\":{\"backgroundcolor\":\"#E5ECF6\",\"gridcolor\":\"white\",\"gridwidth\":2,\"linecolor\":\"white\",\"showbackground\":true,\"ticks\":\"\",\"zerolinecolor\":\"white\"}},\"shapedefaults\":{\"line\":{\"color\":\"#2a3f5f\"}},\"ternary\":{\"aaxis\":{\"gridcolor\":\"white\",\"linecolor\":\"white\",\"ticks\":\"\"},\"baxis\":{\"gridcolor\":\"white\",\"linecolor\":\"white\",\"ticks\":\"\"},\"bgcolor\":\"#E5ECF6\",\"caxis\":{\"gridcolor\":\"white\",\"linecolor\":\"white\",\"ticks\":\"\"}},\"title\":{\"x\":0.05},\"xaxis\":{\"automargin\":true,\"gridcolor\":\"white\",\"linecolor\":\"white\",\"ticks\":\"\",\"title\":{\"standoff\":15},\"zerolinecolor\":\"white\",\"zerolinewidth\":2},\"yaxis\":{\"automargin\":true,\"gridcolor\":\"white\",\"linecolor\":\"white\",\"ticks\":\"\",\"title\":{\"standoff\":15},\"zerolinecolor\":\"white\",\"zerolinewidth\":2}}},\"xaxis\":{\"anchor\":\"y\",\"domain\":[0.0,1.0],\"title\":{\"text\":\"Per\\u00edodo\",\"font\":{\"size\":12}},\"type\":\"category\",\"tickangle\":-60},\"yaxis\":{\"anchor\":\"x\",\"domain\":[0.0,1.0],\"title\":{\"text\":\"(%)\",\"font\":{\"size\":12}}},\"legend\":{\"tracegroupgap\":0},\"margin\":{\"t\":60},\"barmode\":\"relative\",\"title\":{\"font\":{\"size\":20,\"color\":\"darkslategrey\",\"family\":\"luminari, fantasy\"},\"text\":\"Infla\\u00e7\\u00e3o nos \\u00faltimos anos <br><sup>Varia\\u00e7\\u00e3o anual, em %\",\"y\":0.95,\"x\":0.5,\"xanchor\":\"center\",\"yanchor\":\"top\"},\"uniformtext\":{\"minsize\":10,\"mode\":\"hide\"},\"paper_bgcolor\":\"rgb(255,255,255)\",\"plot_bgcolor\":\"rgb(255,255,255)\"},                        {\"responsive\": true}                    ).then(function(){\n",
       "                            \n",
       "var gd = document.getElementById('1b06e274-46db-40fa-8624-78175697a9b3');\n",
       "var x = new MutationObserver(function (mutations, observer) {{\n",
       "        var display = window.getComputedStyle(gd).display;\n",
       "        if (!display || display === 'none') {{\n",
       "            console.log([gd, 'removed!']);\n",
       "            Plotly.purge(gd);\n",
       "            observer.disconnect();\n",
       "        }}\n",
       "}});\n",
       "\n",
       "// Listen for the removal of the full notebook cells\n",
       "var notebookContainer = gd.closest('#notebook-container');\n",
       "if (notebookContainer) {{\n",
       "    x.observe(notebookContainer, {childList: true});\n",
       "}}\n",
       "\n",
       "// Listen for the clearing of the current output cell\n",
       "var outputEl = gd.closest('.output');\n",
       "if (outputEl) {{\n",
       "    x.observe(outputEl, {childList: true});\n",
       "}}\n",
       "\n",
       "                        })                };                });            </script>        </div>"
      ]
     },
     "metadata": {},
     "output_type": "display_data"
    }
   ],
   "source": [
    "# Utilizando algumas features do Plotly para criar um gráfico\n",
    "\n",
    "# Passando o DataFrame como fonte de dados e escolhendo os eixos devidos\n",
    "fig = px.bar(df_2, x = 'ANO', y = 'NO_ANO', text_auto = True)\n",
    "\n",
    "# Definindo os rótulos de dados como fonte 10 e alocados fora das colunas internas\n",
    "fig.update_traces(textfont_size = 9, textangle = 0, textposition = 'outside', cliponaxis = False, marker_color='midnightblue')\n",
    "\n",
    "# Ajustando as informações do gráfico, adicionando título, centralizando e formatando eixos\n",
    "fig.update_layout(\n",
    "    title = {\n",
    "        'text':'Inflação nos últimos anos <br><sup>Variação anual, em %',\n",
    "        'y': 0.95,\n",
    "        'x': 0.5,\n",
    "        'xanchor': 'center',\n",
    "        'yanchor': 'top',\n",
    "        'font': {'size':20, 'color': 'darkslategrey', 'family': 'luminari, fantasy'}\n",
    "    },\n",
    "    yaxis = dict(\n",
    "        title = '(%)',\n",
    "        titlefont_size=12),\n",
    "    xaxis = dict(\n",
    "        title = 'Período',\n",
    "        titlefont_size = 12,\n",
    "        type = 'category'),\n",
    "    uniformtext_minsize = 10,\n",
    "    uniformtext_mode = 'hide',\n",
    "    paper_bgcolor='rgb(255,255,255)',\n",
    "    plot_bgcolor='rgb(255,255,255)',\n",
    ")\n",
    "\n",
    "# Ajustando o ângulo do eixo X\n",
    "fig.update_xaxes(tickangle=-60)\n",
    "\n",
    "fig.show()"
   ]
  },
  {
   "cell_type": "code",
   "execution_count": 34,
   "metadata": {},
   "outputs": [],
   "source": [
    "fig.write_image('output\\\\figura.jpeg', width=1280, height=720)"
   ]
  }
 ],
 "metadata": {
  "interpreter": {
   "hash": "378e7ba6dd85749978d5ce7e5862945b4f0ef3fd2073e80cf0eef883d347d6f6"
  },
  "kernelspec": {
   "display_name": "Python 3",
   "language": "python",
   "name": "python3"
  },
  "language_info": {
   "codemirror_mode": {
    "name": "ipython",
    "version": 3
   },
   "file_extension": ".py",
   "mimetype": "text/x-python",
   "name": "python",
   "nbconvert_exporter": "python",
   "pygments_lexer": "ipython3",
   "version": "3.8.8"
  }
 },
 "nbformat": 4,
 "nbformat_minor": 2
}
